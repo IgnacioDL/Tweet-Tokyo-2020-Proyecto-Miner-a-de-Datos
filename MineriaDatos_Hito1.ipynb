{
  "nbformat": 4,
  "nbformat_minor": 0,
  "metadata": {
    "colab": {
      "name": "MineriaDatos-Hito1.ipynb",
      "provenance": [],
      "collapsed_sections": []
    },
    "kernelspec": {
      "name": "python3",
      "display_name": "Python 3"
    },
    "language_info": {
      "name": "python"
    }
  },
  "cells": [
    {
      "cell_type": "markdown",
      "metadata": {
        "id": "PMfTSW-ZYOGJ"
      },
      "source": [
        "# Hito 1: Tokyo Olympics 2020 Tweets\n",
        "\n",
        "Integrantes: Felipe Araneda, Alexander Cuevas, Ignacio Díaz, Felipe Maldonado, Millaray Valdivia.\n",
        "\n",
        "Curso: Introducción a la Minería de Datos CC5206\n",
        "\n",
        "Fecha: 28 de Septiembre, 2021\n",
        "\n"
      ]
    },
    {
      "cell_type": "markdown",
      "metadata": {
        "id": "OigbrF2YZV3E"
      },
      "source": [
        "##Introducción\n",
        "\n",
        "Los Juegos Olímpicos son el mayor evento deportivo del mundo, incluyendo múltiples disciplinas y del cual participan atletas procedentes de todo los países y naciones. A mediados del 2021 se realizaron los **\"Juegos Olímpicos de Tokyo 2020\"**, con un año de retraso debido a la delicada situación sanitaria por la pandemia por COVID-19, y a pesar de que el virus no ha sido completamente erradicado, los avances médicos han abierto la posibilidad de poder realizar los eventos siguiendo protocolos sanitarios y promoviendo el apoyo a los atletas de forma remota.\n",
        "\n",
        "Este tipo de mega eventos mundiales suelen generar un gran impacto en las redes sociales, donde millones de personas alrededor del mundo comentan sobre el desarrollo del evento, sus expectativas y el desempeño de los distintos atletas. Sin embargo, durante esta version de los juegos las interacciones por estos medios aumentaron de forma considerable respecto a otros años, y es que la situación excepcional del evento ha generado grandes limitaciones para prestar apoyo de forma presencial a los atletas, siendo las redes sociales la única forma de apoyarlos.\n",
        "\n",
        "Debido a los mencionado anteriormente, para este reporte se presenta una exploración de datos de un dataset de **\"Tweets sobre los Juegos Olímpicos de Tokyo 2020\"**, el cual fue obtenido mediante la página web [Kaggle](https://www.kaggle.com/gpreda/tokyo-olympics-2020-tweets), y cuyos datos fueron recolectados mediante la API de Twitter, usando la librería *Tweepy* y filtrando para obtener tweets relacionados al tópico **#Tokyo2020**. \n",
        "\n",
        "La exploración de datos que se realizará en este reporte incluye un reconocimiento de los datos y sus características, limpieza de las inconsistencias y visualización de los datos. Mediante esta exploración se busca responder preguntas como: cuáles fueron los tópicos más populares, si se pueden agrupar las opiniones similares o cómo cambian estas consideraciones con el desarrollo del evento."
      ]
    },
    {
      "cell_type": "markdown",
      "metadata": {
        "id": "Qc4zQuJeXZPT"
      },
      "source": [
        "##Exploración de Datos"
      ]
    },
    {
      "cell_type": "code",
      "metadata": {
        "id": "FFX9AXPuW7pB",
        "colab": {
          "base_uri": "https://localhost:8080/"
        },
        "cellView": "form",
        "outputId": "2f49f462-0d0a-4438-edf3-0756ee54e901"
      },
      "source": [
        "#@title Importar librerías\n",
        "import pandas as pd\n",
        "import numpy as np\n",
        "import matplotlib.pyplot as plt\n",
        "\n",
        "import nltk\n",
        "from nltk.corpus import stopwords\n",
        "from nltk.tokenize import word_tokenize\n",
        "nltk.download('punkt')\n",
        "nltk.download('stopwords')\n",
        "\n",
        "!pip install emoji --upgrade\n",
        "import emoji\n",
        "# Mejor visualización de las tablas\n",
        "%load_ext google.colab.data_table"
      ],
      "execution_count": null,
      "outputs": [
        {
          "output_type": "stream",
          "name": "stdout",
          "text": [
            "[nltk_data] Downloading package punkt to /root/nltk_data...\n",
            "[nltk_data]   Package punkt is already up-to-date!\n",
            "[nltk_data] Downloading package stopwords to /root/nltk_data...\n",
            "[nltk_data]   Package stopwords is already up-to-date!\n",
            "Requirement already satisfied: emoji in /usr/local/lib/python3.7/dist-packages (1.5.0)\n",
            "The google.colab.data_table extension is already loaded. To reload it, use:\n",
            "  %reload_ext google.colab.data_table\n"
          ]
        }
      ]
    },
    {
      "cell_type": "code",
      "metadata": {
        "id": "Ik3Eo1UuY-Ss",
        "colab": {
          "base_uri": "https://localhost:8080/",
          "height": 681
        },
        "cellView": "form",
        "outputId": "36ad0b8d-9c1f-4c62-97bf-12706aaccf57"
      },
      "source": [
        "#@title Cargar el dataset\n",
        "# Cargar el dataset\n",
        "dataset_file = 'tokyo_2020_tweets.csv'\n",
        "dataset = pd.read_csv(dataset_file)\n",
        "# Ver las primeras filas del dataset\n",
        "dataset.head()"
      ],
      "execution_count": null,
      "outputs": [
        {
          "output_type": "stream",
          "name": "stderr",
          "text": [
            "/usr/local/lib/python3.7/dist-packages/IPython/core/interactiveshell.py:2718: DtypeWarning: Columns (0,1,2,3,4,5,6,7,8,9,10,11,12,15) have mixed types.Specify dtype option on import or set low_memory=False.\n",
            "  interactivity=interactivity, compiler=compiler, result=result)\n"
          ]
        },
        {
          "output_type": "execute_result",
          "data": {
            "application/vnd.google.colaboratory.module+javascript": "\n      import \"https://ssl.gstatic.com/colaboratory/data_table/a6224c040fa35dcf/data_table.js\";\n\n      window.createDataTable({\n        data: [[{\n            'v': 0,\n            'f': \"0\",\n        },\n{\n            'v': \"1418888645105356803\",\n            'f': \"1418888645105356803\",\n        },\n\"Abhishek Srivastav\",\n\"Udupi, India\",\n\"Trying to be mediocre in many things\",\n\"2021-02-01 06:33:51\",\n{\n            'v': 45.0,\n            'f': \"45.0\",\n        },\n{\n            'v': 39.0,\n            'f': \"39.0\",\n        },\n{\n            'v': 293.0,\n            'f': \"293.0\",\n        },\nfalse,\n\"2021-07-24 10:59:49\",\n\"Let the party begin\\n#Tokyo2020\",\n\"['Tokyo2020']\",\n\"Twitter for Android\",\n{\n            'v': 0.0,\n            'f': \"0.0\",\n        },\n{\n            'v': 0.0,\n            'f': \"0.0\",\n        },\nfalse],\n [{\n            'v': 1,\n            'f': \"1\",\n        },\n{\n            'v': \"1418888377680678918\",\n            'f': \"1418888377680678918\",\n        },\n\"Saikhom Mirabai Channu\\ud83c\\uddee\\ud83c\\uddf3\",\n\"Manipur, India\",\n\"Indian weightlifter 48 kg category. Champion\\ud83c\\udfc6\",\n\"2018-04-07 10:10:22\",\n{\n            'v': 5235.0,\n            'f': \"5235.0\",\n        },\n{\n            'v': 5.0,\n            'f': \"5.0\",\n        },\n{\n            'v': 2969.0,\n            'f': \"2969.0\",\n        },\nfalse,\n\"2021-07-24 10:58:45\",\n\"Congratulations #Tokyo2020 https://t.co/8OFKMs9ukq\",\n\"['Tokyo2020']\",\n\"Twitter for Android\",\n{\n            'v': 0.0,\n            'f': \"0.0\",\n        },\n{\n            'v': 0.0,\n            'f': \"0.0\",\n        },\nfalse],\n [{\n            'v': 2,\n            'f': \"2\",\n        },\n{\n            'v': \"1418888260886073345\",\n            'f': \"1418888260886073345\",\n        },\n\"Big Breaking\",\n\"Global\",\n\"All breaking news related to Financial Market. Economy, Stock Market, RealTime Big Blocks, Currency, Cryptocurrency, Bond. We're not FA, DYOR before any action.\",\n\"2021-05-29 08:51:25\",\n{\n            'v': 3646.0,\n            'f': \"3646.0\",\n        },\n{\n            'v': 3.0,\n            'f': \"3.0\",\n        },\n{\n            'v': 5.0,\n            'f': \"5.0\",\n        },\nfalse,\n\"2021-07-24 10:58:17\",\n\"Big Breaking Now \\n\\nTokyo Olympic Update \\n\\nJapan won his first Gold \\ud83e\\udd47 Takato Naohisa won Gold in men's 60 kg Judo, C\\u2026 https://t.co/tRcfDd7clY\",\nNaN,\n\"Twitter for Android\",\n{\n            'v': 0.0,\n            'f': \"0.0\",\n        },\n{\n            'v': 1.0,\n            'f': \"1.0\",\n        },\nfalse],\n [{\n            'v': 3,\n            'f': \"3\",\n        },\n{\n            'v': \"1418888172864299008\",\n            'f': \"1418888172864299008\",\n        },\n\"International Hockey Federation\",\n\"Lausanne\",\n\"Official International Hockey Federation Twitter Account | Sport | Olympic Sport | Events |\",\n\"2010-10-20 10:45:59\",\n{\n            'v': 103975.0,\n            'f': \"103975.0\",\n        },\n{\n            'v': 2724.0,\n            'f': \"2724.0\",\n        },\n{\n            'v': 36554.0,\n            'f': \"36554.0\",\n        },\ntrue,\n\"2021-07-24 10:57:56\",\n\"Q4: \\ud83c\\uddec\\ud83c\\udde73-1\\ud83c\\uddff\\ud83c\\udde6\\n\\nGreat Britain finally find a way way Pieterse, with Jack Waller finding the net via the stick of a Sou\\u2026 https://t.co/kdeNYg9THk\",\nNaN,\n\"Twitter Web App\",\n{\n            'v': 1.0,\n            'f': \"1.0\",\n        },\n{\n            'v': 0.0,\n            'f': \"0.0\",\n        },\nfalse],\n [{\n            'v': 4,\n            'f': \"4\",\n        },\n{\n            'v': \"1418886894478270464\",\n            'f': \"1418886894478270464\",\n        },\n\"Cameron Hart\",\n\"Australia\",\n\"Football & Tennis Coach\",\n\"2020-10-31 08:46:17\",\n{\n            'v': 6.0,\n            'f': \"6.0\",\n        },\n{\n            'v': 37.0,\n            'f': \"37.0\",\n        },\n{\n            'v': 31.0,\n            'f': \"31.0\",\n        },\nfalse,\n\"2021-07-24 10:52:51\",\n\"All I can think of every time I watch the rings event #Tokyo2020 #ArtisticGymnastics #7Olympics #OlympicGames\\u2026 https://t.co/cJaxEFnyzD\",\n\"['Tokyo2020', 'ArtisticGymnastics', '7Olympics', 'OlympicGames']\",\n\"Twitter for iPhone\",\n{\n            'v': 0.0,\n            'f': \"0.0\",\n        },\n{\n            'v': 0.0,\n            'f': \"0.0\",\n        },\nfalse]],\n        columns: [[\"number\", \"index\"], [\"number\", \"id\"], [\"string\", \"user_name\"], [\"string\", \"user_location\"], [\"string\", \"user_description\"], [\"string\", \"user_created\"], [\"number\", \"user_followers\"], [\"number\", \"user_friends\"], [\"number\", \"user_favourites\"], [\"string\", \"user_verified\"], [\"string\", \"date\"], [\"string\", \"text\"], [\"string\", \"hashtags\"], [\"string\", \"source\"], [\"number\", \"retweets\"], [\"number\", \"favorites\"], [\"string\", \"is_retweet\"]],\n        columnOptions: [{\"width\": \"1px\", \"className\": \"index_column\"}],\n        rowsPerPage: 25,\n        helpUrl: \"https://colab.research.google.com/notebooks/data_table.ipynb\",\n        suppressOutputScrolling: true,\n        minimumWidth: undefined,\n      });\n    ",
            "text/html": [
              "<div>\n",
              "<style scoped>\n",
              "    .dataframe tbody tr th:only-of-type {\n",
              "        vertical-align: middle;\n",
              "    }\n",
              "\n",
              "    .dataframe tbody tr th {\n",
              "        vertical-align: top;\n",
              "    }\n",
              "\n",
              "    .dataframe thead th {\n",
              "        text-align: right;\n",
              "    }\n",
              "</style>\n",
              "<table border=\"1\" class=\"dataframe\">\n",
              "  <thead>\n",
              "    <tr style=\"text-align: right;\">\n",
              "      <th></th>\n",
              "      <th>id</th>\n",
              "      <th>user_name</th>\n",
              "      <th>user_location</th>\n",
              "      <th>user_description</th>\n",
              "      <th>user_created</th>\n",
              "      <th>user_followers</th>\n",
              "      <th>user_friends</th>\n",
              "      <th>user_favourites</th>\n",
              "      <th>user_verified</th>\n",
              "      <th>date</th>\n",
              "      <th>text</th>\n",
              "      <th>hashtags</th>\n",
              "      <th>source</th>\n",
              "      <th>retweets</th>\n",
              "      <th>favorites</th>\n",
              "      <th>is_retweet</th>\n",
              "    </tr>\n",
              "  </thead>\n",
              "  <tbody>\n",
              "    <tr>\n",
              "      <th>0</th>\n",
              "      <td>1418888645105356803</td>\n",
              "      <td>Abhishek Srivastav</td>\n",
              "      <td>Udupi, India</td>\n",
              "      <td>Trying to be mediocre in many things</td>\n",
              "      <td>2021-02-01 06:33:51</td>\n",
              "      <td>45</td>\n",
              "      <td>39</td>\n",
              "      <td>293</td>\n",
              "      <td>False</td>\n",
              "      <td>2021-07-24 10:59:49</td>\n",
              "      <td>Let the party begin\\n#Tokyo2020</td>\n",
              "      <td>['Tokyo2020']</td>\n",
              "      <td>Twitter for Android</td>\n",
              "      <td>0.0</td>\n",
              "      <td>0.0</td>\n",
              "      <td>False</td>\n",
              "    </tr>\n",
              "    <tr>\n",
              "      <th>1</th>\n",
              "      <td>1418888377680678918</td>\n",
              "      <td>Saikhom Mirabai Channu🇮🇳</td>\n",
              "      <td>Manipur, India</td>\n",
              "      <td>Indian weightlifter 48 kg category. Champion🏆</td>\n",
              "      <td>2018-04-07 10:10:22</td>\n",
              "      <td>5235</td>\n",
              "      <td>5</td>\n",
              "      <td>2969</td>\n",
              "      <td>False</td>\n",
              "      <td>2021-07-24 10:58:45</td>\n",
              "      <td>Congratulations #Tokyo2020 https://t.co/8OFKMs...</td>\n",
              "      <td>['Tokyo2020']</td>\n",
              "      <td>Twitter for Android</td>\n",
              "      <td>0.0</td>\n",
              "      <td>0.0</td>\n",
              "      <td>False</td>\n",
              "    </tr>\n",
              "    <tr>\n",
              "      <th>2</th>\n",
              "      <td>1418888260886073345</td>\n",
              "      <td>Big Breaking</td>\n",
              "      <td>Global</td>\n",
              "      <td>All breaking news related to Financial Market....</td>\n",
              "      <td>2021-05-29 08:51:25</td>\n",
              "      <td>3646</td>\n",
              "      <td>3</td>\n",
              "      <td>5</td>\n",
              "      <td>False</td>\n",
              "      <td>2021-07-24 10:58:17</td>\n",
              "      <td>Big Breaking Now \\n\\nTokyo Olympic Update \\n\\n...</td>\n",
              "      <td>NaN</td>\n",
              "      <td>Twitter for Android</td>\n",
              "      <td>0.0</td>\n",
              "      <td>1.0</td>\n",
              "      <td>False</td>\n",
              "    </tr>\n",
              "    <tr>\n",
              "      <th>3</th>\n",
              "      <td>1418888172864299008</td>\n",
              "      <td>International Hockey Federation</td>\n",
              "      <td>Lausanne</td>\n",
              "      <td>Official International Hockey Federation Twitt...</td>\n",
              "      <td>2010-10-20 10:45:59</td>\n",
              "      <td>103975</td>\n",
              "      <td>2724</td>\n",
              "      <td>36554</td>\n",
              "      <td>True</td>\n",
              "      <td>2021-07-24 10:57:56</td>\n",
              "      <td>Q4: 🇬🇧3-1🇿🇦\\n\\nGreat Britain finally find a wa...</td>\n",
              "      <td>NaN</td>\n",
              "      <td>Twitter Web App</td>\n",
              "      <td>1.0</td>\n",
              "      <td>0.0</td>\n",
              "      <td>False</td>\n",
              "    </tr>\n",
              "    <tr>\n",
              "      <th>4</th>\n",
              "      <td>1418886894478270464</td>\n",
              "      <td>Cameron Hart</td>\n",
              "      <td>Australia</td>\n",
              "      <td>Football &amp; Tennis Coach</td>\n",
              "      <td>2020-10-31 08:46:17</td>\n",
              "      <td>6</td>\n",
              "      <td>37</td>\n",
              "      <td>31</td>\n",
              "      <td>False</td>\n",
              "      <td>2021-07-24 10:52:51</td>\n",
              "      <td>All I can think of every time I watch the ring...</td>\n",
              "      <td>['Tokyo2020', 'ArtisticGymnastics', '7Olympics...</td>\n",
              "      <td>Twitter for iPhone</td>\n",
              "      <td>0.0</td>\n",
              "      <td>0.0</td>\n",
              "      <td>False</td>\n",
              "    </tr>\n",
              "  </tbody>\n",
              "</table>\n",
              "</div>"
            ],
            "text/plain": [
              "                    id                        user_name  ... favorites is_retweet\n",
              "0  1418888645105356803               Abhishek Srivastav  ...       0.0      False\n",
              "1  1418888377680678918         Saikhom Mirabai Channu🇮🇳  ...       0.0      False\n",
              "2  1418888260886073345                     Big Breaking  ...       1.0      False\n",
              "3  1418888172864299008  International Hockey Federation  ...       0.0      False\n",
              "4  1418886894478270464                     Cameron Hart  ...       0.0      False\n",
              "\n",
              "[5 rows x 16 columns]"
            ]
          },
          "metadata": {},
          "execution_count": 209
        }
      ]
    },
    {
      "cell_type": "code",
      "metadata": {
        "id": "nLOqJKSUaxPb",
        "colab": {
          "base_uri": "https://localhost:8080/"
        },
        "cellView": "form",
        "outputId": "1e7efea1-354b-4012-a6b2-91ce80fd2809"
      },
      "source": [
        "#@title Información inicial Dataset\n",
        "# Dimensiones del dataset\n",
        "print(\"Dimensiones: filas = \" + str(dataset.shape[0]) + \", columnas = \" + str(dataset.shape[1]) + \"\\n\")\n",
        "\n",
        "# Columnas del dataset\n",
        "print(\"Nombres Columnas: \" + dataset.columns[0], end=\"\")\n",
        "for col in dataset.columns[1:]:\n",
        "  print(\", \" + col, end=\"\")"
      ],
      "execution_count": null,
      "outputs": [
        {
          "output_type": "stream",
          "name": "stdout",
          "text": [
            "Dimensiones: filas = 297011, columnas = 16\n",
            "\n",
            "Nombres Columnas: id, user_name, user_location, user_description, user_created, user_followers, user_friends, user_favourites, user_verified, date, text, hashtags, source, retweets, favorites, is_retweet"
          ]
        }
      ]
    },
    {
      "cell_type": "code",
      "metadata": {
        "colab": {
          "base_uri": "https://localhost:8080/"
        },
        "id": "Cc3KKPC59csr",
        "cellView": "form",
        "outputId": "760d279d-8781-47c8-8d61-840311e7ee31"
      },
      "source": [
        "#@title Tipos de las columnas\n",
        "dataset.dtypes"
      ],
      "execution_count": null,
      "outputs": [
        {
          "output_type": "execute_result",
          "data": {
            "text/plain": [
              "id                   object\n",
              "user_name            object\n",
              "user_location        object\n",
              "user_description     object\n",
              "user_created         object\n",
              "user_followers       object\n",
              "user_friends         object\n",
              "user_favourites      object\n",
              "user_verified        object\n",
              "date                 object\n",
              "text                 object\n",
              "hashtags             object\n",
              "source               object\n",
              "retweets            float64\n",
              "favorites           float64\n",
              "is_retweet           object\n",
              "dtype: object"
            ]
          },
          "metadata": {},
          "execution_count": 211
        }
      ]
    },
    {
      "cell_type": "code",
      "metadata": {
        "colab": {
          "base_uri": "https://localhost:8080/",
          "height": 256
        },
        "id": "yZvhkPn49cxy",
        "cellView": "form",
        "outputId": "954bccbe-0619-4e38-c397-aea97d34af64"
      },
      "source": [
        "#@title Descripción inicial del dataset \n",
        "dataset.describe()"
      ],
      "execution_count": null,
      "outputs": [
        {
          "output_type": "execute_result",
          "data": {
            "application/vnd.google.colaboratory.module+javascript": "\n      import \"https://ssl.gstatic.com/colaboratory/data_table/a6224c040fa35dcf/data_table.js\";\n\n      window.createDataTable({\n        data: [[\"count\",\n{\n            'v': 160525.0,\n            'f': \"160525.0\",\n        },\n{\n            'v': 160525.0,\n            'f': \"160525.0\",\n        }],\n [\"mean\",\n{\n            'v': 2.51862949696309,\n            'f': \"2.51862949696309\",\n        },\n{\n            'v': 14.132371904687743,\n            'f': \"14.132371904687743\",\n        }],\n [\"std\",\n{\n            'v': 43.10959828645483,\n            'f': \"43.10959828645483\",\n        },\n{\n            'v': 149.97869920574598,\n            'f': \"149.97869920574598\",\n        }],\n [\"min\",\n{\n            'v': 0.0,\n            'f': \"0.0\",\n        },\n{\n            'v': 0.0,\n            'f': \"0.0\",\n        }],\n [\"25%\",\n{\n            'v': 0.0,\n            'f': \"0.0\",\n        },\n{\n            'v': 0.0,\n            'f': \"0.0\",\n        }],\n [\"50%\",\n{\n            'v': 0.0,\n            'f': \"0.0\",\n        },\n{\n            'v': 1.0,\n            'f': \"1.0\",\n        }],\n [\"75%\",\n{\n            'v': 0.0,\n            'f': \"0.0\",\n        },\n{\n            'v': 3.0,\n            'f': \"3.0\",\n        }],\n [\"max\",\n{\n            'v': 6429.0,\n            'f': \"6429.0\",\n        },\n{\n            'v': 14382.0,\n            'f': \"14382.0\",\n        }]],\n        columns: [[\"string\", \"index\"], [\"number\", \"retweets\"], [\"number\", \"favorites\"]],\n        columnOptions: [{\"width\": \"1px\", \"className\": \"index_column\"}],\n        rowsPerPage: 25,\n        helpUrl: \"https://colab.research.google.com/notebooks/data_table.ipynb\",\n        suppressOutputScrolling: true,\n        minimumWidth: undefined,\n      });\n    ",
            "text/html": [
              "<div>\n",
              "<style scoped>\n",
              "    .dataframe tbody tr th:only-of-type {\n",
              "        vertical-align: middle;\n",
              "    }\n",
              "\n",
              "    .dataframe tbody tr th {\n",
              "        vertical-align: top;\n",
              "    }\n",
              "\n",
              "    .dataframe thead th {\n",
              "        text-align: right;\n",
              "    }\n",
              "</style>\n",
              "<table border=\"1\" class=\"dataframe\">\n",
              "  <thead>\n",
              "    <tr style=\"text-align: right;\">\n",
              "      <th></th>\n",
              "      <th>retweets</th>\n",
              "      <th>favorites</th>\n",
              "    </tr>\n",
              "  </thead>\n",
              "  <tbody>\n",
              "    <tr>\n",
              "      <th>count</th>\n",
              "      <td>160525.000000</td>\n",
              "      <td>160525.000000</td>\n",
              "    </tr>\n",
              "    <tr>\n",
              "      <th>mean</th>\n",
              "      <td>2.518629</td>\n",
              "      <td>14.132372</td>\n",
              "    </tr>\n",
              "    <tr>\n",
              "      <th>std</th>\n",
              "      <td>43.109598</td>\n",
              "      <td>149.978699</td>\n",
              "    </tr>\n",
              "    <tr>\n",
              "      <th>min</th>\n",
              "      <td>0.000000</td>\n",
              "      <td>0.000000</td>\n",
              "    </tr>\n",
              "    <tr>\n",
              "      <th>25%</th>\n",
              "      <td>0.000000</td>\n",
              "      <td>0.000000</td>\n",
              "    </tr>\n",
              "    <tr>\n",
              "      <th>50%</th>\n",
              "      <td>0.000000</td>\n",
              "      <td>1.000000</td>\n",
              "    </tr>\n",
              "    <tr>\n",
              "      <th>75%</th>\n",
              "      <td>0.000000</td>\n",
              "      <td>3.000000</td>\n",
              "    </tr>\n",
              "    <tr>\n",
              "      <th>max</th>\n",
              "      <td>6429.000000</td>\n",
              "      <td>14382.000000</td>\n",
              "    </tr>\n",
              "  </tbody>\n",
              "</table>\n",
              "</div>"
            ],
            "text/plain": [
              "            retweets      favorites\n",
              "count  160525.000000  160525.000000\n",
              "mean        2.518629      14.132372\n",
              "std        43.109598     149.978699\n",
              "min         0.000000       0.000000\n",
              "25%         0.000000       0.000000\n",
              "50%         0.000000       1.000000\n",
              "75%         0.000000       3.000000\n",
              "max      6429.000000   14382.000000"
            ]
          },
          "metadata": {},
          "execution_count": 212
        }
      ]
    },
    {
      "cell_type": "code",
      "metadata": {
        "colab": {
          "base_uri": "https://localhost:8080/"
        },
        "id": "UsiUyNt29c0p",
        "cellView": "form",
        "outputId": "9561552f-490d-4bce-e5c8-efb95efceb77"
      },
      "source": [
        "#@title Chequear NaN por columnas\n",
        "dataset.isna().sum()"
      ],
      "execution_count": null,
      "outputs": [
        {
          "output_type": "execute_result",
          "data": {
            "text/plain": [
              "id                       0\n",
              "user_name           131073\n",
              "user_location       169095\n",
              "user_description    139700\n",
              "user_created        136479\n",
              "user_followers      136479\n",
              "user_friends        136480\n",
              "user_favourites     136480\n",
              "user_verified       136482\n",
              "date                136480\n",
              "text                136480\n",
              "hashtags            173983\n",
              "source              136481\n",
              "retweets            136486\n",
              "favorites           136486\n",
              "is_retweet          136486\n",
              "dtype: int64"
            ]
          },
          "metadata": {},
          "execution_count": 213
        }
      ]
    },
    {
      "cell_type": "markdown",
      "metadata": {
        "id": "_Z8B-gWz6KKH"
      },
      "source": [
        "## Limpieza de Datos\n",
        "Como muestran las celdas anteriores, existían varios tipos que no fueron reconocidas al cargar el dataset con pandas y que tampoco se podían forzar. Luego, al ver cómo se reparten los NaN, se da cuenta que hay muchos datos incosistentes que están mal agregados a la base de datos. \n",
        "\n",
        "Para limpiar estos datos se eliminan los NaN en ciertas columnas clave y luego se vuelve a mirar la repartición de NaN, para finalmente forzar los tipos que deberían corresponder a las columnas."
      ]
    },
    {
      "cell_type": "code",
      "metadata": {
        "colab": {
          "base_uri": "https://localhost:8080/"
        },
        "id": "uiW0st_79c3B",
        "cellView": "form",
        "outputId": "8d705558-e891-4537-fd8e-bc74c6c3117b"
      },
      "source": [
        "#@title Botamos las filas que tengan algún NaN en ciertas columnas con datos inconsistentes, para que queden así:\n",
        "dataset = dataset.dropna(subset=['user_verified', 'source', 'retweets', 'favorites', 'is_retweet'])\n",
        "# Chequear cuántas\n",
        "dataset.isna().sum()"
      ],
      "execution_count": null,
      "outputs": [
        {
          "output_type": "execute_result",
          "data": {
            "text/plain": [
              "id                      0\n",
              "user_name               0\n",
              "user_location       38021\n",
              "user_description     8627\n",
              "user_created            0\n",
              "user_followers          0\n",
              "user_friends            0\n",
              "user_favourites         0\n",
              "user_verified           0\n",
              "date                    0\n",
              "text                    0\n",
              "hashtags            37502\n",
              "source                  0\n",
              "retweets                0\n",
              "favorites               0\n",
              "is_retweet              0\n",
              "dtype: int64"
            ]
          },
          "metadata": {},
          "execution_count": 214
        }
      ]
    },
    {
      "cell_type": "code",
      "metadata": {
        "colab": {
          "base_uri": "https://localhost:8080/"
        },
        "id": "QwgVs6UD9nA5",
        "cellView": "form",
        "outputId": "4a1bb336-ec2a-4a88-984d-ddf433c75876"
      },
      "source": [
        "#@title Dimensiones del dataset luego de borrar los datos inconsistentes (NaN)\n",
        "print(\"Dimensiones (datos limpiados): filas = \" + str(dataset.shape[0]) + \", columnas = \" + str(dataset.shape[1]) + \"\\n\")\n"
      ],
      "execution_count": null,
      "outputs": [
        {
          "output_type": "stream",
          "name": "stdout",
          "text": [
            "Dimensiones (datos limpiados): filas = 160525, columnas = 16\n",
            "\n"
          ]
        }
      ]
    },
    {
      "cell_type": "code",
      "metadata": {
        "id": "AO9HNmkS9c6j",
        "cellView": "form"
      },
      "source": [
        "#@title Sin los datos inconsistentes, podemos redefinir los tipos de las columnas\n",
        "dataset['id'] = dataset['id'].astype('int64')\n",
        "dataset['user_created'] = dataset['user_created'].astype('datetime64')\n",
        "dataset['user_followers'] = dataset['user_followers'].astype('int32')\n",
        "dataset['user_friends'] = dataset['user_friends'].astype('int32')\n",
        "dataset['user_favourites'] = dataset['user_favourites'].astype('int32')\n",
        "dataset['user_verified'] = dataset['user_verified'].astype('bool')\n",
        "dataset['date'] = dataset['date'].astype('datetime64')\n",
        "dataset['retweets'] = dataset['retweets'].astype('int32')\n",
        "dataset['favorites'] = dataset['favorites'].astype('int32')\n",
        "dataset['is_retweet'] = dataset['is_retweet'].astype('bool')"
      ],
      "execution_count": null,
      "outputs": []
    },
    {
      "cell_type": "code",
      "metadata": {
        "id": "dIPPItaOD9yt",
        "colab": {
          "base_uri": "https://localhost:8080/"
        },
        "cellView": "form",
        "outputId": "5871eddb-dfc1-4f70-8a4b-0322d1910ab4"
      },
      "source": [
        "#@title Tipos luego de la redefinición\n",
        "dataset.dtypes"
      ],
      "execution_count": null,
      "outputs": [
        {
          "output_type": "execute_result",
          "data": {
            "text/plain": [
              "id                           int64\n",
              "user_name                   object\n",
              "user_location               object\n",
              "user_description            object\n",
              "user_created        datetime64[ns]\n",
              "user_followers               int32\n",
              "user_friends                 int32\n",
              "user_favourites              int32\n",
              "user_verified                 bool\n",
              "date                datetime64[ns]\n",
              "text                        object\n",
              "hashtags                    object\n",
              "source                      object\n",
              "retweets                     int32\n",
              "favorites                    int32\n",
              "is_retweet                    bool\n",
              "dtype: object"
            ]
          },
          "metadata": {},
          "execution_count": 217
        }
      ]
    },
    {
      "cell_type": "code",
      "metadata": {
        "colab": {
          "base_uri": "https://localhost:8080/",
          "height": 256
        },
        "id": "7RFs9aDP9c8L",
        "cellView": "form",
        "outputId": "41c4eadc-9b95-4aaa-aaa7-2cade07be268"
      },
      "source": [
        "#@title Descripción del dataset luego de la redefinición de tipos\n",
        "dataset.describe()"
      ],
      "execution_count": null,
      "outputs": [
        {
          "output_type": "execute_result",
          "data": {
            "application/vnd.google.colaboratory.module+javascript": "\n      import \"https://ssl.gstatic.com/colaboratory/data_table/a6224c040fa35dcf/data_table.js\";\n\n      window.createDataTable({\n        data: [[\"count\",\n{\n            'v': 160525.0,\n            'f': \"160525.0\",\n        },\n{\n            'v': 160525.0,\n            'f': \"160525.0\",\n        },\n{\n            'v': 160525.0,\n            'f': \"160525.0\",\n        },\n{\n            'v': 160525.0,\n            'f': \"160525.0\",\n        },\n{\n            'v': 160525.0,\n            'f': \"160525.0\",\n        },\n{\n            'v': 160525.0,\n            'f': \"160525.0\",\n        }],\n [\"mean\",\n{\n            'v': 1.4194405689899886e+18,\n            'f': \"1.4194405689899886e+18\",\n        },\n{\n            'v': 141776.81865130042,\n            'f': \"141776.81865130042\",\n        },\n{\n            'v': 1183.5683912163215,\n            'f': \"1183.5683912163215\",\n        },\n{\n            'v': 19023.038673103878,\n            'f': \"19023.038673103878\",\n        },\n{\n            'v': 2.51862949696309,\n            'f': \"2.51862949696309\",\n        },\n{\n            'v': 14.132371904687743,\n            'f': \"14.132371904687743\",\n        }],\n [\"std\",\n{\n            'v': 320800998907625.5,\n            'f': \"320800998907625.5\",\n        },\n{\n            'v': 1529727.1581464354,\n            'f': \"1529727.1581464354\",\n        },\n{\n            'v': 4073.3526220399604,\n            'f': \"4073.3526220399604\",\n        },\n{\n            'v': 46690.13972376957,\n            'f': \"46690.13972376957\",\n        },\n{\n            'v': 43.10959828645483,\n            'f': \"43.10959828645483\",\n        },\n{\n            'v': 149.97869920574598,\n            'f': \"149.97869920574598\",\n        }],\n [\"min\",\n{\n            'v': 1.418859296461312e+18,\n            'f': \"1.418859296461312e+18\",\n        },\n{\n            'v': 0.0,\n            'f': \"0.0\",\n        },\n{\n            'v': 0.0,\n            'f': \"0.0\",\n        },\n{\n            'v': 0.0,\n            'f': \"0.0\",\n        },\n{\n            'v': 0.0,\n            'f': \"0.0\",\n        },\n{\n            'v': 0.0,\n            'f': \"0.0\",\n        }],\n [\"25%\",\n{\n            'v': 1.419211027879633e+18,\n            'f': \"1.419211027879633e+18\",\n        },\n{\n            'v': 158.0,\n            'f': \"158.0\",\n        },\n{\n            'v': 188.0,\n            'f': \"188.0\",\n        },\n{\n            'v': 737.0,\n            'f': \"737.0\",\n        },\n{\n            'v': 0.0,\n            'f': \"0.0\",\n        },\n{\n            'v': 0.0,\n            'f': \"0.0\",\n        }],\n [\"50%\",\n{\n            'v': 1.419479754827133e+18,\n            'f': \"1.419479754827133e+18\",\n        },\n{\n            'v': 685.0,\n            'f': \"685.0\",\n        },\n{\n            'v': 526.0,\n            'f': \"526.0\",\n        },\n{\n            'v': 4404.0,\n            'f': \"4404.0\",\n        },\n{\n            'v': 0.0,\n            'f': \"0.0\",\n        },\n{\n            'v': 1.0,\n            'f': \"1.0\",\n        }],\n [\"75%\",\n{\n            'v': 1.4196737229827482e+18,\n            'f': \"1.4196737229827482e+18\",\n        },\n{\n            'v': 3677.0,\n            'f': \"3677.0\",\n        },\n{\n            'v': 1211.0,\n            'f': \"1211.0\",\n        },\n{\n            'v': 16794.0,\n            'f': \"16794.0\",\n        },\n{\n            'v': 0.0,\n            'f': \"0.0\",\n        },\n{\n            'v': 3.0,\n            'f': \"3.0\",\n        }],\n [\"max\",\n{\n            'v': 1.4199603218470543e+18,\n            'f': \"1.4199603218470543e+18\",\n        },\n{\n            'v': 54206588.0,\n            'f': \"54206588.0\",\n        },\n{\n            'v': 461566.0,\n            'f': \"461566.0\",\n        },\n{\n            'v': 2234721.0,\n            'f': \"2234721.0\",\n        },\n{\n            'v': 6429.0,\n            'f': \"6429.0\",\n        },\n{\n            'v': 14382.0,\n            'f': \"14382.0\",\n        }]],\n        columns: [[\"string\", \"index\"], [\"number\", \"id\"], [\"number\", \"user_followers\"], [\"number\", \"user_friends\"], [\"number\", \"user_favourites\"], [\"number\", \"retweets\"], [\"number\", \"favorites\"]],\n        columnOptions: [{\"width\": \"1px\", \"className\": \"index_column\"}],\n        rowsPerPage: 25,\n        helpUrl: \"https://colab.research.google.com/notebooks/data_table.ipynb\",\n        suppressOutputScrolling: true,\n        minimumWidth: undefined,\n      });\n    ",
            "text/html": [
              "<div>\n",
              "<style scoped>\n",
              "    .dataframe tbody tr th:only-of-type {\n",
              "        vertical-align: middle;\n",
              "    }\n",
              "\n",
              "    .dataframe tbody tr th {\n",
              "        vertical-align: top;\n",
              "    }\n",
              "\n",
              "    .dataframe thead th {\n",
              "        text-align: right;\n",
              "    }\n",
              "</style>\n",
              "<table border=\"1\" class=\"dataframe\">\n",
              "  <thead>\n",
              "    <tr style=\"text-align: right;\">\n",
              "      <th></th>\n",
              "      <th>id</th>\n",
              "      <th>user_followers</th>\n",
              "      <th>user_friends</th>\n",
              "      <th>user_favourites</th>\n",
              "      <th>retweets</th>\n",
              "      <th>favorites</th>\n",
              "    </tr>\n",
              "  </thead>\n",
              "  <tbody>\n",
              "    <tr>\n",
              "      <th>count</th>\n",
              "      <td>1.605250e+05</td>\n",
              "      <td>1.605250e+05</td>\n",
              "      <td>160525.000000</td>\n",
              "      <td>1.605250e+05</td>\n",
              "      <td>160525.000000</td>\n",
              "      <td>160525.000000</td>\n",
              "    </tr>\n",
              "    <tr>\n",
              "      <th>mean</th>\n",
              "      <td>1.419441e+18</td>\n",
              "      <td>1.417768e+05</td>\n",
              "      <td>1183.568391</td>\n",
              "      <td>1.902304e+04</td>\n",
              "      <td>2.518629</td>\n",
              "      <td>14.132372</td>\n",
              "    </tr>\n",
              "    <tr>\n",
              "      <th>std</th>\n",
              "      <td>3.208010e+14</td>\n",
              "      <td>1.529727e+06</td>\n",
              "      <td>4073.352622</td>\n",
              "      <td>4.669014e+04</td>\n",
              "      <td>43.109598</td>\n",
              "      <td>149.978699</td>\n",
              "    </tr>\n",
              "    <tr>\n",
              "      <th>min</th>\n",
              "      <td>1.418859e+18</td>\n",
              "      <td>0.000000e+00</td>\n",
              "      <td>0.000000</td>\n",
              "      <td>0.000000e+00</td>\n",
              "      <td>0.000000</td>\n",
              "      <td>0.000000</td>\n",
              "    </tr>\n",
              "    <tr>\n",
              "      <th>25%</th>\n",
              "      <td>1.419211e+18</td>\n",
              "      <td>1.580000e+02</td>\n",
              "      <td>188.000000</td>\n",
              "      <td>7.370000e+02</td>\n",
              "      <td>0.000000</td>\n",
              "      <td>0.000000</td>\n",
              "    </tr>\n",
              "    <tr>\n",
              "      <th>50%</th>\n",
              "      <td>1.419480e+18</td>\n",
              "      <td>6.850000e+02</td>\n",
              "      <td>526.000000</td>\n",
              "      <td>4.404000e+03</td>\n",
              "      <td>0.000000</td>\n",
              "      <td>1.000000</td>\n",
              "    </tr>\n",
              "    <tr>\n",
              "      <th>75%</th>\n",
              "      <td>1.419674e+18</td>\n",
              "      <td>3.677000e+03</td>\n",
              "      <td>1211.000000</td>\n",
              "      <td>1.679400e+04</td>\n",
              "      <td>0.000000</td>\n",
              "      <td>3.000000</td>\n",
              "    </tr>\n",
              "    <tr>\n",
              "      <th>max</th>\n",
              "      <td>1.419960e+18</td>\n",
              "      <td>5.420659e+07</td>\n",
              "      <td>461566.000000</td>\n",
              "      <td>2.234721e+06</td>\n",
              "      <td>6429.000000</td>\n",
              "      <td>14382.000000</td>\n",
              "    </tr>\n",
              "  </tbody>\n",
              "</table>\n",
              "</div>"
            ],
            "text/plain": [
              "                 id  user_followers  ...       retweets      favorites\n",
              "count  1.605250e+05    1.605250e+05  ...  160525.000000  160525.000000\n",
              "mean   1.419441e+18    1.417768e+05  ...       2.518629      14.132372\n",
              "std    3.208010e+14    1.529727e+06  ...      43.109598     149.978699\n",
              "min    1.418859e+18    0.000000e+00  ...       0.000000       0.000000\n",
              "25%    1.419211e+18    1.580000e+02  ...       0.000000       0.000000\n",
              "50%    1.419480e+18    6.850000e+02  ...       0.000000       1.000000\n",
              "75%    1.419674e+18    3.677000e+03  ...       0.000000       3.000000\n",
              "max    1.419960e+18    5.420659e+07  ...    6429.000000   14382.000000\n",
              "\n",
              "[8 rows x 6 columns]"
            ]
          },
          "metadata": {},
          "execution_count": 218
        }
      ]
    },
    {
      "cell_type": "code",
      "metadata": {
        "colab": {
          "base_uri": "https://localhost:8080/",
          "height": 220
        },
        "id": "q4rH2Wt3gmsz",
        "outputId": "088ede40-16e8-4337-ad69-83360568a0c1"
      },
      "source": [
        "dataset.describe(include=[\"object\"])"
      ],
      "execution_count": null,
      "outputs": [
        {
          "output_type": "execute_result",
          "data": {
            "application/vnd.google.colaboratory.module+javascript": "\n      import \"https://ssl.gstatic.com/colaboratory/data_table/a6224c040fa35dcf/data_table.js\";\n\n      window.createDataTable({\n        data: [[\"count\",\n160525,\n122504,\n151898,\n160525,\n123023,\n160525],\n [\"unique\",\n63917,\n21888,\n61212,\n159074,\n36222,\n285],\n [\"top\",\n\"canadianbestseller.com\",\n\"India\",\n\"https://t.co/ZJK4Q3dy6l \\u2013 Your Prime Discount Store For Computers|Electronic|Games|Toys|Drones|Everything Tech & More.\\nEasy Returns | Money Back Guarantee\",\n\"#Tokyo2020 #Boxing \\n\\n#TeamIndia 's #MaryKom wins her match in the Round of 32.. \\n\\nWell done!\",\n\"['Tokyo2020']\",\n\"Twitter for Android\"],\n [\"freq\",\n755,\n4688,\n755,\n9,\n30962,\n53042]],\n        columns: [[\"string\", \"index\"], [\"string\", \"user_name\"], [\"string\", \"user_location\"], [\"string\", \"user_description\"], [\"string\", \"text\"], [\"string\", \"hashtags\"], [\"string\", \"source\"]],\n        columnOptions: [{\"width\": \"1px\", \"className\": \"index_column\"}],\n        rowsPerPage: 25,\n        helpUrl: \"https://colab.research.google.com/notebooks/data_table.ipynb\",\n        suppressOutputScrolling: true,\n        minimumWidth: undefined,\n      });\n    ",
            "text/html": [
              "<div>\n",
              "<style scoped>\n",
              "    .dataframe tbody tr th:only-of-type {\n",
              "        vertical-align: middle;\n",
              "    }\n",
              "\n",
              "    .dataframe tbody tr th {\n",
              "        vertical-align: top;\n",
              "    }\n",
              "\n",
              "    .dataframe thead th {\n",
              "        text-align: right;\n",
              "    }\n",
              "</style>\n",
              "<table border=\"1\" class=\"dataframe\">\n",
              "  <thead>\n",
              "    <tr style=\"text-align: right;\">\n",
              "      <th></th>\n",
              "      <th>user_name</th>\n",
              "      <th>user_location</th>\n",
              "      <th>user_description</th>\n",
              "      <th>text</th>\n",
              "      <th>hashtags</th>\n",
              "      <th>source</th>\n",
              "    </tr>\n",
              "  </thead>\n",
              "  <tbody>\n",
              "    <tr>\n",
              "      <th>count</th>\n",
              "      <td>160525</td>\n",
              "      <td>122504</td>\n",
              "      <td>151898</td>\n",
              "      <td>160525</td>\n",
              "      <td>123023</td>\n",
              "      <td>160525</td>\n",
              "    </tr>\n",
              "    <tr>\n",
              "      <th>unique</th>\n",
              "      <td>63917</td>\n",
              "      <td>21888</td>\n",
              "      <td>61212</td>\n",
              "      <td>159074</td>\n",
              "      <td>36222</td>\n",
              "      <td>285</td>\n",
              "    </tr>\n",
              "    <tr>\n",
              "      <th>top</th>\n",
              "      <td>canadianbestseller.com</td>\n",
              "      <td>India</td>\n",
              "      <td>https://t.co/ZJK4Q3dy6l – Your Prime Discount ...</td>\n",
              "      <td>#Tokyo2020 #Boxing \\n\\n#TeamIndia 's #MaryKom ...</td>\n",
              "      <td>['Tokyo2020']</td>\n",
              "      <td>Twitter for Android</td>\n",
              "    </tr>\n",
              "    <tr>\n",
              "      <th>freq</th>\n",
              "      <td>755</td>\n",
              "      <td>4688</td>\n",
              "      <td>755</td>\n",
              "      <td>9</td>\n",
              "      <td>30962</td>\n",
              "      <td>53042</td>\n",
              "    </tr>\n",
              "  </tbody>\n",
              "</table>\n",
              "</div>"
            ],
            "text/plain": [
              "                     user_name  ...               source\n",
              "count                   160525  ...               160525\n",
              "unique                   63917  ...                  285\n",
              "top     canadianbestseller.com  ...  Twitter for Android\n",
              "freq                       755  ...                53042\n",
              "\n",
              "[4 rows x 6 columns]"
            ]
          },
          "metadata": {},
          "execution_count": 219
        }
      ]
    },
    {
      "cell_type": "code",
      "metadata": {
        "colab": {
          "base_uri": "https://localhost:8080/",
          "height": 303
        },
        "id": "ia_j8px-htoV",
        "outputId": "39841dc4-4e98-4e7b-9426-ebd0c0f68a11"
      },
      "source": [
        "dataset.describe(include=[\"datetime\"])"
      ],
      "execution_count": null,
      "outputs": [
        {
          "output_type": "stream",
          "name": "stderr",
          "text": [
            "/usr/local/lib/python3.7/dist-packages/ipykernel_launcher.py:1: FutureWarning: Treating datetime data as categorical rather than numeric in `.describe` is deprecated and will be removed in a future version of pandas. Specify `datetime_is_numeric=True` to silence this warning and adopt the future behavior now.\n",
            "  \"\"\"Entry point for launching an IPython kernel.\n",
            "/usr/local/lib/python3.7/dist-packages/ipykernel_launcher.py:1: FutureWarning: Treating datetime data as categorical rather than numeric in `.describe` is deprecated and will be removed in a future version of pandas. Specify `datetime_is_numeric=True` to silence this warning and adopt the future behavior now.\n",
            "  \"\"\"Entry point for launching an IPython kernel.\n"
          ]
        },
        {
          "output_type": "execute_result",
          "data": {
            "application/vnd.google.colaboratory.module+javascript": "\n      import \"https://ssl.gstatic.com/colaboratory/data_table/a6224c040fa35dcf/data_table.js\";\n\n      window.createDataTable({\n        data: [[\"count\",\n160525,\n160525],\n [\"unique\",\n66334,\n105600],\n [\"top\",\n\"2019-10-26 02:56:57\",\n\"2021-07-27 05:00:00\"],\n [\"freq\",\n755,\n22],\n [\"first\",\n\"2006-09-04 00:18:12\",\n\"2021-07-24 09:03:12\"],\n [\"last\",\n\"2021-07-27 08:58:07\",\n\"2021-07-27 09:58:16\"]],\n        columns: [[\"string\", \"index\"], [\"string\", \"user_created\"], [\"string\", \"date\"]],\n        columnOptions: [{\"width\": \"1px\", \"className\": \"index_column\"}],\n        rowsPerPage: 25,\n        helpUrl: \"https://colab.research.google.com/notebooks/data_table.ipynb\",\n        suppressOutputScrolling: true,\n        minimumWidth: undefined,\n      });\n    ",
            "text/html": [
              "<div>\n",
              "<style scoped>\n",
              "    .dataframe tbody tr th:only-of-type {\n",
              "        vertical-align: middle;\n",
              "    }\n",
              "\n",
              "    .dataframe tbody tr th {\n",
              "        vertical-align: top;\n",
              "    }\n",
              "\n",
              "    .dataframe thead th {\n",
              "        text-align: right;\n",
              "    }\n",
              "</style>\n",
              "<table border=\"1\" class=\"dataframe\">\n",
              "  <thead>\n",
              "    <tr style=\"text-align: right;\">\n",
              "      <th></th>\n",
              "      <th>user_created</th>\n",
              "      <th>date</th>\n",
              "    </tr>\n",
              "  </thead>\n",
              "  <tbody>\n",
              "    <tr>\n",
              "      <th>count</th>\n",
              "      <td>160525</td>\n",
              "      <td>160525</td>\n",
              "    </tr>\n",
              "    <tr>\n",
              "      <th>unique</th>\n",
              "      <td>66334</td>\n",
              "      <td>105600</td>\n",
              "    </tr>\n",
              "    <tr>\n",
              "      <th>top</th>\n",
              "      <td>2019-10-26 02:56:57</td>\n",
              "      <td>2021-07-27 05:00:00</td>\n",
              "    </tr>\n",
              "    <tr>\n",
              "      <th>freq</th>\n",
              "      <td>755</td>\n",
              "      <td>22</td>\n",
              "    </tr>\n",
              "    <tr>\n",
              "      <th>first</th>\n",
              "      <td>2006-09-04 00:18:12</td>\n",
              "      <td>2021-07-24 09:03:12</td>\n",
              "    </tr>\n",
              "    <tr>\n",
              "      <th>last</th>\n",
              "      <td>2021-07-27 08:58:07</td>\n",
              "      <td>2021-07-27 09:58:16</td>\n",
              "    </tr>\n",
              "  </tbody>\n",
              "</table>\n",
              "</div>"
            ],
            "text/plain": [
              "               user_created                 date\n",
              "count                160525               160525\n",
              "unique                66334               105600\n",
              "top     2019-10-26 02:56:57  2021-07-27 05:00:00\n",
              "freq                    755                   22\n",
              "first   2006-09-04 00:18:12  2021-07-24 09:03:12\n",
              "last    2021-07-27 08:58:07  2021-07-27 09:58:16"
            ]
          },
          "metadata": {},
          "execution_count": 220
        }
      ]
    },
    {
      "cell_type": "code",
      "metadata": {
        "colab": {
          "base_uri": "https://localhost:8080/",
          "height": 172
        },
        "id": "XRXb6IFcjBJ3",
        "outputId": "131ff899-f0e8-45bf-9079-861e4dce889c"
      },
      "source": [
        "dataset.describe(include=[\"bool\"])"
      ],
      "execution_count": null,
      "outputs": [
        {
          "output_type": "execute_result",
          "data": {
            "application/vnd.google.colaboratory.module+javascript": "\n      import \"https://ssl.gstatic.com/colaboratory/data_table/a6224c040fa35dcf/data_table.js\";\n\n      window.createDataTable({\n        data: [[\"count\",\n160525,\n160525],\n [\"unique\",\n2,\n1],\n [\"top\",\nfalse,\nfalse],\n [\"freq\",\n82721,\n160525]],\n        columns: [[\"string\", \"index\"], [\"string\", \"user_verified\"], [\"string\", \"is_retweet\"]],\n        columnOptions: [{\"width\": \"1px\", \"className\": \"index_column\"}],\n        rowsPerPage: 25,\n        helpUrl: \"https://colab.research.google.com/notebooks/data_table.ipynb\",\n        suppressOutputScrolling: true,\n        minimumWidth: undefined,\n      });\n    ",
            "text/html": [
              "<div>\n",
              "<style scoped>\n",
              "    .dataframe tbody tr th:only-of-type {\n",
              "        vertical-align: middle;\n",
              "    }\n",
              "\n",
              "    .dataframe tbody tr th {\n",
              "        vertical-align: top;\n",
              "    }\n",
              "\n",
              "    .dataframe thead th {\n",
              "        text-align: right;\n",
              "    }\n",
              "</style>\n",
              "<table border=\"1\" class=\"dataframe\">\n",
              "  <thead>\n",
              "    <tr style=\"text-align: right;\">\n",
              "      <th></th>\n",
              "      <th>user_verified</th>\n",
              "      <th>is_retweet</th>\n",
              "    </tr>\n",
              "  </thead>\n",
              "  <tbody>\n",
              "    <tr>\n",
              "      <th>count</th>\n",
              "      <td>160525</td>\n",
              "      <td>160525</td>\n",
              "    </tr>\n",
              "    <tr>\n",
              "      <th>unique</th>\n",
              "      <td>2</td>\n",
              "      <td>1</td>\n",
              "    </tr>\n",
              "    <tr>\n",
              "      <th>top</th>\n",
              "      <td>False</td>\n",
              "      <td>False</td>\n",
              "    </tr>\n",
              "    <tr>\n",
              "      <th>freq</th>\n",
              "      <td>82721</td>\n",
              "      <td>160525</td>\n",
              "    </tr>\n",
              "  </tbody>\n",
              "</table>\n",
              "</div>"
            ],
            "text/plain": [
              "       user_verified is_retweet\n",
              "count         160525     160525\n",
              "unique             2          1\n",
              "top            False      False\n",
              "freq           82721     160525"
            ]
          },
          "metadata": {},
          "execution_count": 221
        }
      ]
    },
    {
      "cell_type": "code",
      "metadata": {
        "colab": {
          "base_uri": "https://localhost:8080/"
        },
        "id": "KYncAl4zjHPV",
        "outputId": "dbde2654-6086-4ab8-f3a8-4809ab2e06ec"
      },
      "source": [
        "print(dataset['user_verified'].value_counts(normalize=True))\n",
        "print()\n",
        "print(dataset['is_retweet'].value_counts(normalize=True))"
      ],
      "execution_count": null,
      "outputs": [
        {
          "output_type": "stream",
          "name": "stdout",
          "text": [
            "False    0.515315\n",
            "True     0.484685\n",
            "Name: user_verified, dtype: float64\n",
            "\n",
            "False    1.0\n",
            "Name: is_retweet, dtype: float64\n"
          ]
        }
      ]
    },
    {
      "cell_type": "code",
      "metadata": {
        "colab": {
          "base_uri": "https://localhost:8080/",
          "height": 626
        },
        "id": "hWOZkGMRlIAO",
        "cellView": "form",
        "outputId": "7bb11e87-104c-474d-b94b-20e8fd55443b"
      },
      "source": [
        "#@title Botamos columnas que tienen poca o nada variación de datos (is_retweet, retweets, favorites)\n",
        "dataset_clean = dataset.drop(['is_retweet', 'retweets', 'favorites'], axis=1)\n",
        "dataset_clean.head()"
      ],
      "execution_count": null,
      "outputs": [
        {
          "output_type": "execute_result",
          "data": {
            "application/vnd.google.colaboratory.module+javascript": "\n      import \"https://ssl.gstatic.com/colaboratory/data_table/a6224c040fa35dcf/data_table.js\";\n\n      window.createDataTable({\n        data: [[{\n            'v': 0,\n            'f': \"0\",\n        },\n{\n            'v': \"1418888645105356803\",\n            'f': \"1418888645105356803\",\n        },\n\"Abhishek Srivastav\",\n\"Udupi, India\",\n\"Trying to be mediocre in many things\",\n\"2021-02-01 06:33:51\",\n{\n            'v': 45,\n            'f': \"45\",\n        },\n{\n            'v': 39,\n            'f': \"39\",\n        },\n{\n            'v': 293,\n            'f': \"293\",\n        },\nfalse,\n\"2021-07-24 10:59:49\",\n\"Let the party begin\\n#Tokyo2020\",\n\"['Tokyo2020']\",\n\"Twitter for Android\"],\n [{\n            'v': 1,\n            'f': \"1\",\n        },\n{\n            'v': \"1418888377680678918\",\n            'f': \"1418888377680678918\",\n        },\n\"Saikhom Mirabai Channu\\ud83c\\uddee\\ud83c\\uddf3\",\n\"Manipur, India\",\n\"Indian weightlifter 48 kg category. Champion\\ud83c\\udfc6\",\n\"2018-04-07 10:10:22\",\n{\n            'v': 5235,\n            'f': \"5235\",\n        },\n{\n            'v': 5,\n            'f': \"5\",\n        },\n{\n            'v': 2969,\n            'f': \"2969\",\n        },\nfalse,\n\"2021-07-24 10:58:45\",\n\"Congratulations #Tokyo2020 https://t.co/8OFKMs9ukq\",\n\"['Tokyo2020']\",\n\"Twitter for Android\"],\n [{\n            'v': 2,\n            'f': \"2\",\n        },\n{\n            'v': \"1418888260886073345\",\n            'f': \"1418888260886073345\",\n        },\n\"Big Breaking\",\n\"Global\",\n\"All breaking news related to Financial Market. Economy, Stock Market, RealTime Big Blocks, Currency, Cryptocurrency, Bond. We're not FA, DYOR before any action.\",\n\"2021-05-29 08:51:25\",\n{\n            'v': 3646,\n            'f': \"3646\",\n        },\n{\n            'v': 3,\n            'f': \"3\",\n        },\n{\n            'v': 5,\n            'f': \"5\",\n        },\nfalse,\n\"2021-07-24 10:58:17\",\n\"Big Breaking Now \\n\\nTokyo Olympic Update \\n\\nJapan won his first Gold \\ud83e\\udd47 Takato Naohisa won Gold in men's 60 kg Judo, C\\u2026 https://t.co/tRcfDd7clY\",\nNaN,\n\"Twitter for Android\"],\n [{\n            'v': 3,\n            'f': \"3\",\n        },\n{\n            'v': \"1418888172864299008\",\n            'f': \"1418888172864299008\",\n        },\n\"International Hockey Federation\",\n\"Lausanne\",\n\"Official International Hockey Federation Twitter Account | Sport | Olympic Sport | Events |\",\n\"2010-10-20 10:45:59\",\n{\n            'v': 103975,\n            'f': \"103975\",\n        },\n{\n            'v': 2724,\n            'f': \"2724\",\n        },\n{\n            'v': 36554,\n            'f': \"36554\",\n        },\ntrue,\n\"2021-07-24 10:57:56\",\n\"Q4: \\ud83c\\uddec\\ud83c\\udde73-1\\ud83c\\uddff\\ud83c\\udde6\\n\\nGreat Britain finally find a way way Pieterse, with Jack Waller finding the net via the stick of a Sou\\u2026 https://t.co/kdeNYg9THk\",\nNaN,\n\"Twitter Web App\"],\n [{\n            'v': 4,\n            'f': \"4\",\n        },\n{\n            'v': \"1418886894478270464\",\n            'f': \"1418886894478270464\",\n        },\n\"Cameron Hart\",\n\"Australia\",\n\"Football & Tennis Coach\",\n\"2020-10-31 08:46:17\",\n{\n            'v': 6,\n            'f': \"6\",\n        },\n{\n            'v': 37,\n            'f': \"37\",\n        },\n{\n            'v': 31,\n            'f': \"31\",\n        },\nfalse,\n\"2021-07-24 10:52:51\",\n\"All I can think of every time I watch the rings event #Tokyo2020 #ArtisticGymnastics #7Olympics #OlympicGames\\u2026 https://t.co/cJaxEFnyzD\",\n\"['Tokyo2020', 'ArtisticGymnastics', '7Olympics', 'OlympicGames']\",\n\"Twitter for iPhone\"]],\n        columns: [[\"number\", \"index\"], [\"number\", \"id\"], [\"string\", \"user_name\"], [\"string\", \"user_location\"], [\"string\", \"user_description\"], [\"string\", \"user_created\"], [\"number\", \"user_followers\"], [\"number\", \"user_friends\"], [\"number\", \"user_favourites\"], [\"string\", \"user_verified\"], [\"string\", \"date\"], [\"string\", \"text\"], [\"string\", \"hashtags\"], [\"string\", \"source\"]],\n        columnOptions: [{\"width\": \"1px\", \"className\": \"index_column\"}],\n        rowsPerPage: 25,\n        helpUrl: \"https://colab.research.google.com/notebooks/data_table.ipynb\",\n        suppressOutputScrolling: true,\n        minimumWidth: undefined,\n      });\n    ",
            "text/html": [
              "<div>\n",
              "<style scoped>\n",
              "    .dataframe tbody tr th:only-of-type {\n",
              "        vertical-align: middle;\n",
              "    }\n",
              "\n",
              "    .dataframe tbody tr th {\n",
              "        vertical-align: top;\n",
              "    }\n",
              "\n",
              "    .dataframe thead th {\n",
              "        text-align: right;\n",
              "    }\n",
              "</style>\n",
              "<table border=\"1\" class=\"dataframe\">\n",
              "  <thead>\n",
              "    <tr style=\"text-align: right;\">\n",
              "      <th></th>\n",
              "      <th>id</th>\n",
              "      <th>user_name</th>\n",
              "      <th>user_location</th>\n",
              "      <th>user_description</th>\n",
              "      <th>user_created</th>\n",
              "      <th>user_followers</th>\n",
              "      <th>user_friends</th>\n",
              "      <th>user_favourites</th>\n",
              "      <th>user_verified</th>\n",
              "      <th>date</th>\n",
              "      <th>text</th>\n",
              "      <th>hashtags</th>\n",
              "      <th>source</th>\n",
              "    </tr>\n",
              "  </thead>\n",
              "  <tbody>\n",
              "    <tr>\n",
              "      <th>0</th>\n",
              "      <td>1418888645105356803</td>\n",
              "      <td>Abhishek Srivastav</td>\n",
              "      <td>Udupi, India</td>\n",
              "      <td>Trying to be mediocre in many things</td>\n",
              "      <td>2021-02-01 06:33:51</td>\n",
              "      <td>45</td>\n",
              "      <td>39</td>\n",
              "      <td>293</td>\n",
              "      <td>False</td>\n",
              "      <td>2021-07-24 10:59:49</td>\n",
              "      <td>Let the party begin\\n#Tokyo2020</td>\n",
              "      <td>['Tokyo2020']</td>\n",
              "      <td>Twitter for Android</td>\n",
              "    </tr>\n",
              "    <tr>\n",
              "      <th>1</th>\n",
              "      <td>1418888377680678918</td>\n",
              "      <td>Saikhom Mirabai Channu🇮🇳</td>\n",
              "      <td>Manipur, India</td>\n",
              "      <td>Indian weightlifter 48 kg category. Champion🏆</td>\n",
              "      <td>2018-04-07 10:10:22</td>\n",
              "      <td>5235</td>\n",
              "      <td>5</td>\n",
              "      <td>2969</td>\n",
              "      <td>False</td>\n",
              "      <td>2021-07-24 10:58:45</td>\n",
              "      <td>Congratulations #Tokyo2020 https://t.co/8OFKMs...</td>\n",
              "      <td>['Tokyo2020']</td>\n",
              "      <td>Twitter for Android</td>\n",
              "    </tr>\n",
              "    <tr>\n",
              "      <th>2</th>\n",
              "      <td>1418888260886073345</td>\n",
              "      <td>Big Breaking</td>\n",
              "      <td>Global</td>\n",
              "      <td>All breaking news related to Financial Market....</td>\n",
              "      <td>2021-05-29 08:51:25</td>\n",
              "      <td>3646</td>\n",
              "      <td>3</td>\n",
              "      <td>5</td>\n",
              "      <td>False</td>\n",
              "      <td>2021-07-24 10:58:17</td>\n",
              "      <td>Big Breaking Now \\n\\nTokyo Olympic Update \\n\\n...</td>\n",
              "      <td>NaN</td>\n",
              "      <td>Twitter for Android</td>\n",
              "    </tr>\n",
              "    <tr>\n",
              "      <th>3</th>\n",
              "      <td>1418888172864299008</td>\n",
              "      <td>International Hockey Federation</td>\n",
              "      <td>Lausanne</td>\n",
              "      <td>Official International Hockey Federation Twitt...</td>\n",
              "      <td>2010-10-20 10:45:59</td>\n",
              "      <td>103975</td>\n",
              "      <td>2724</td>\n",
              "      <td>36554</td>\n",
              "      <td>True</td>\n",
              "      <td>2021-07-24 10:57:56</td>\n",
              "      <td>Q4: 🇬🇧3-1🇿🇦\\n\\nGreat Britain finally find a wa...</td>\n",
              "      <td>NaN</td>\n",
              "      <td>Twitter Web App</td>\n",
              "    </tr>\n",
              "    <tr>\n",
              "      <th>4</th>\n",
              "      <td>1418886894478270464</td>\n",
              "      <td>Cameron Hart</td>\n",
              "      <td>Australia</td>\n",
              "      <td>Football &amp; Tennis Coach</td>\n",
              "      <td>2020-10-31 08:46:17</td>\n",
              "      <td>6</td>\n",
              "      <td>37</td>\n",
              "      <td>31</td>\n",
              "      <td>False</td>\n",
              "      <td>2021-07-24 10:52:51</td>\n",
              "      <td>All I can think of every time I watch the ring...</td>\n",
              "      <td>['Tokyo2020', 'ArtisticGymnastics', '7Olympics...</td>\n",
              "      <td>Twitter for iPhone</td>\n",
              "    </tr>\n",
              "  </tbody>\n",
              "</table>\n",
              "</div>"
            ],
            "text/plain": [
              "                    id  ...               source\n",
              "0  1418888645105356803  ...  Twitter for Android\n",
              "1  1418888377680678918  ...  Twitter for Android\n",
              "2  1418888260886073345  ...  Twitter for Android\n",
              "3  1418888172864299008  ...      Twitter Web App\n",
              "4  1418886894478270464  ...   Twitter for iPhone\n",
              "\n",
              "[5 rows x 13 columns]"
            ]
          },
          "metadata": {},
          "execution_count": 223
        }
      ]
    },
    {
      "cell_type": "code",
      "metadata": {
        "colab": {
          "base_uri": "https://localhost:8080/",
          "height": 541
        },
        "id": "6C_bGxxkbZtZ",
        "cellView": "form",
        "outputId": "abafd58f-a106-47e0-8d69-f6358b13e488"
      },
      "source": [
        "#@title Tweets relacionados a Chile\n",
        "chile_tweets = dataset_clean[dataset_clean['text'].str.contains(\"Chile|Chilean|chile|chilean\", na=False) | dataset_clean['user_location'].str.contains(\"Chile|chile\", na=False)]\n",
        "chile_tweets.head(4)"
      ],
      "execution_count": null,
      "outputs": [
        {
          "output_type": "execute_result",
          "data": {
            "application/vnd.google.colaboratory.module+javascript": "\n      import \"https://ssl.gstatic.com/colaboratory/data_table/a6224c040fa35dcf/data_table.js\";\n\n      window.createDataTable({\n        data: [[{\n            'v': 95,\n            'f': \"95\",\n        },\n{\n            'v': \"1418889035032969224\",\n            'f': \"1418889035032969224\",\n        },\n\"#Tokyo2020\",\n\"Worldwide \\ud83c\\udf10\\ud83c\\udf0e\",\n\"Sports Diplomat\\ud83e\\udd35|| Business Consultant\\ud83d\\udcbc|| International Freelance Sports Journalist @aipsmedia \\ud83d\\udc68\\u200d\\ud83d\\udcbb\",\n\"2015-10-17 12:24:14\",\n{\n            'v': 11466,\n            'f': \"11466\",\n        },\n{\n            'v': 195,\n            'f': \"195\",\n        },\n{\n            'v': 3512,\n            'f': \"3512\",\n        },\ntrue,\n\"2021-07-24 11:01:22\",\n\"FT: Chile \\ud83c\\udde8\\ud83c\\uddf1 1-2 Canada \\ud83c\\udde8\\ud83c\\udde6 \\n\\n\\u270c\\ufe0fBeckie\\u2019s double was enough to give #TeamCanada a massive step towards qualification\\u2026 https://t.co/q9217jXOTO\",\n\"['TeamCanada']\",\n\"Twitter for iPhone\"],\n [{\n            'v': 422,\n            'f': \"422\",\n        },\n{\n            'v': \"1418887769162756103\",\n            'f': \"1418887769162756103\",\n        },\n\"Doble Enganche\",\nNaN,\n\"Cuenta 100% futbolera \\ud83d\\udcf1Tratamos de poner informaci\\u00f3n lo mejor que podamos\",\n\"2021-05-01 22:50:39\",\n{\n            'v': 61,\n            'f': \"61\",\n        },\n{\n            'v': 99,\n            'f': \"99\",\n        },\n{\n            'v': 116,\n            'f': \"116\",\n        },\nfalse,\n\"2021-07-24 10:56:20\",\n\"Fecha 2 del f\\u00fatbol femenino en los #JuegosOlimpicos \\n\\n\\ud83c\\udde8\\ud83c\\uddf1 Chile 1\\u20e3\\u27962\\u20e3 Canad\\u00e1 \\ud83c\\udde8\\ud83c\\udde6\\n\\ud83c\\udde8\\ud83c\\uddf3 China 4\\u20e3\\u27964\\u20e3 Zambia \\ud83c\\uddff\\ud83c\\uddf2\\n\\ud83c\\uddf8\\ud83c\\uddea Suecia\\u2026 https://t.co/cJj5aTHzK8\",\n\"['JuegosOlimpicos']\",\n\"Twitter Web App\"],\n [{\n            'v': 526,\n            'f': \"526\",\n        },\n{\n            'v': \"1418887388013674506\",\n            'f': \"1418887388013674506\",\n        },\n\"SwimSwam Live\",\n\"On Deck\",\n\"The official Live Tweeting arm of @swimswamnews. Follow us to see more in-depth, up-to-the-minute details of what's happening at all of the big meets\",\n\"2015-02-16 16:11:58\",\n{\n            'v': 15941,\n            'f': \"15941\",\n        },\n{\n            'v': 114,\n            'f': \"114\",\n        },\n{\n            'v': 362,\n            'f': \"362\",\n        },\nfalse,\n\"2021-07-24 10:54:49\",\n\"Eduardo Cisternas takes heat 1 of the men's 400 free, swimming a 3:54.10. The swim marks a Chile National Record!\\n#Tokyo2020\",\n\"['Tokyo2020']\",\n\"Twitter Web App\"],\n [{\n            'v': 847,\n            'f': \"847\",\n        },\n{\n            'v': \"1418886262413533187\",\n            'f': \"1418886262413533187\",\n        },\n\"kasur empuk\",\n\"west of westeros\",\n\"Embrace your weirdness\",\n\"2014-08-02 16:03:16\",\n{\n            'v': 1269,\n            'f': \"1269\",\n        },\n{\n            'v': 470,\n            'f': \"470\",\n        },\n{\n            'v': 19726,\n            'f': \"19726\",\n        },\nfalse,\n\"2021-07-24 10:50:21\",\n\"Watching swimming rn and wow chile #Tokyo2020\",\n\"['Tokyo2020']\",\n\"Twitter for Android\"]],\n        columns: [[\"number\", \"index\"], [\"number\", \"id\"], [\"string\", \"user_name\"], [\"string\", \"user_location\"], [\"string\", \"user_description\"], [\"string\", \"user_created\"], [\"number\", \"user_followers\"], [\"number\", \"user_friends\"], [\"number\", \"user_favourites\"], [\"string\", \"user_verified\"], [\"string\", \"date\"], [\"string\", \"text\"], [\"string\", \"hashtags\"], [\"string\", \"source\"]],\n        columnOptions: [{\"width\": \"1px\", \"className\": \"index_column\"}],\n        rowsPerPage: 25,\n        helpUrl: \"https://colab.research.google.com/notebooks/data_table.ipynb\",\n        suppressOutputScrolling: true,\n        minimumWidth: undefined,\n      });\n    ",
            "text/html": [
              "<div>\n",
              "<style scoped>\n",
              "    .dataframe tbody tr th:only-of-type {\n",
              "        vertical-align: middle;\n",
              "    }\n",
              "\n",
              "    .dataframe tbody tr th {\n",
              "        vertical-align: top;\n",
              "    }\n",
              "\n",
              "    .dataframe thead th {\n",
              "        text-align: right;\n",
              "    }\n",
              "</style>\n",
              "<table border=\"1\" class=\"dataframe\">\n",
              "  <thead>\n",
              "    <tr style=\"text-align: right;\">\n",
              "      <th></th>\n",
              "      <th>id</th>\n",
              "      <th>user_name</th>\n",
              "      <th>user_location</th>\n",
              "      <th>user_description</th>\n",
              "      <th>user_created</th>\n",
              "      <th>user_followers</th>\n",
              "      <th>user_friends</th>\n",
              "      <th>user_favourites</th>\n",
              "      <th>user_verified</th>\n",
              "      <th>date</th>\n",
              "      <th>text</th>\n",
              "      <th>hashtags</th>\n",
              "      <th>source</th>\n",
              "    </tr>\n",
              "  </thead>\n",
              "  <tbody>\n",
              "    <tr>\n",
              "      <th>95</th>\n",
              "      <td>1418889035032969224</td>\n",
              "      <td>#Tokyo2020</td>\n",
              "      <td>Worldwide 🌐🌎</td>\n",
              "      <td>Sports Diplomat🤵|| Business Consultant💼|| Inte...</td>\n",
              "      <td>2015-10-17 12:24:14</td>\n",
              "      <td>11466</td>\n",
              "      <td>195</td>\n",
              "      <td>3512</td>\n",
              "      <td>True</td>\n",
              "      <td>2021-07-24 11:01:22</td>\n",
              "      <td>FT: Chile 🇨🇱 1-2 Canada 🇨🇦 \\n\\n✌️Beckie’s doub...</td>\n",
              "      <td>['TeamCanada']</td>\n",
              "      <td>Twitter for iPhone</td>\n",
              "    </tr>\n",
              "    <tr>\n",
              "      <th>422</th>\n",
              "      <td>1418887769162756103</td>\n",
              "      <td>Doble Enganche</td>\n",
              "      <td>NaN</td>\n",
              "      <td>Cuenta 100% futbolera 📱Tratamos de poner infor...</td>\n",
              "      <td>2021-05-01 22:50:39</td>\n",
              "      <td>61</td>\n",
              "      <td>99</td>\n",
              "      <td>116</td>\n",
              "      <td>False</td>\n",
              "      <td>2021-07-24 10:56:20</td>\n",
              "      <td>Fecha 2 del fútbol femenino en los #JuegosOlim...</td>\n",
              "      <td>['JuegosOlimpicos']</td>\n",
              "      <td>Twitter Web App</td>\n",
              "    </tr>\n",
              "    <tr>\n",
              "      <th>526</th>\n",
              "      <td>1418887388013674506</td>\n",
              "      <td>SwimSwam Live</td>\n",
              "      <td>On Deck</td>\n",
              "      <td>The official Live Tweeting arm of @swimswamnew...</td>\n",
              "      <td>2015-02-16 16:11:58</td>\n",
              "      <td>15941</td>\n",
              "      <td>114</td>\n",
              "      <td>362</td>\n",
              "      <td>False</td>\n",
              "      <td>2021-07-24 10:54:49</td>\n",
              "      <td>Eduardo Cisternas takes heat 1 of the men's 40...</td>\n",
              "      <td>['Tokyo2020']</td>\n",
              "      <td>Twitter Web App</td>\n",
              "    </tr>\n",
              "    <tr>\n",
              "      <th>847</th>\n",
              "      <td>1418886262413533187</td>\n",
              "      <td>kasur empuk</td>\n",
              "      <td>west of westeros</td>\n",
              "      <td>Embrace your weirdness</td>\n",
              "      <td>2014-08-02 16:03:16</td>\n",
              "      <td>1269</td>\n",
              "      <td>470</td>\n",
              "      <td>19726</td>\n",
              "      <td>False</td>\n",
              "      <td>2021-07-24 10:50:21</td>\n",
              "      <td>Watching swimming rn and wow chile #Tokyo2020</td>\n",
              "      <td>['Tokyo2020']</td>\n",
              "      <td>Twitter for Android</td>\n",
              "    </tr>\n",
              "  </tbody>\n",
              "</table>\n",
              "</div>"
            ],
            "text/plain": [
              "                      id  ...               source\n",
              "95   1418889035032969224  ...   Twitter for iPhone\n",
              "422  1418887769162756103  ...      Twitter Web App\n",
              "526  1418887388013674506  ...      Twitter Web App\n",
              "847  1418886262413533187  ...  Twitter for Android\n",
              "\n",
              "[4 rows x 13 columns]"
            ]
          },
          "metadata": {},
          "execution_count": 224
        }
      ]
    },
    {
      "cell_type": "code",
      "metadata": {
        "colab": {
          "base_uri": "https://localhost:8080/",
          "height": 381
        },
        "id": "Bbr3v76Cbdt0",
        "cellView": "form",
        "outputId": "f2f77671-7070-48a7-818d-3eb521a55170"
      },
      "source": [
        "#@title Tweets creados el mismo día que su usuario\n",
        "tweets_same_day = dataset_clean[dataset_clean['user_created'].dt.date == dataset_clean['date'].dt.date]\n",
        "tweets_same_day.head(4)"
      ],
      "execution_count": null,
      "outputs": [
        {
          "output_type": "execute_result",
          "data": {
            "application/vnd.google.colaboratory.module+javascript": "\n      import \"https://ssl.gstatic.com/colaboratory/data_table/a6224c040fa35dcf/data_table.js\";\n\n      window.createDataTable({\n        data: [[{\n            'v': 67,\n            'f': \"67\",\n        },\n{\n            'v': \"1418889126858919938\",\n            'f': \"1418889126858919938\",\n        },\n\"anon69\",\n{\n            'v': NaN,\n            'f': \"NaN\",\n        },\n\"jus a sk8r grrrrrrrrrrrllllllll //////\",\n\"2021-07-24 10:47:24\",\n{\n            'v': 1,\n            'f': \"1\",\n        },\n{\n            'v': 0,\n            'f': \"0\",\n        },\n{\n            'v': 0,\n            'f': \"0\",\n        },\nfalse,\n\"2021-07-24 11:01:44\",\n\"#Tokyo2020 \\n\\nWhere\\u2019s porridge? https://t.co/8vsfSg85jZ\",\n\"['Tokyo2020']\",\n\"Twitter for iPhone\"],\n [{\n            'v': 225,\n            'f': \"225\",\n        },\n{\n            'v': \"1418888595956437001\",\n            'f': \"1418888595956437001\",\n        },\n\"AmazingNews\",\n{\n            'v': NaN,\n            'f': \"NaN\",\n        },\n\"It's amazing...\",\n\"2021-07-24 10:45:12\",\n{\n            'v': 0,\n            'f': \"0\",\n        },\n{\n            'v': 6,\n            'f': \"6\",\n        },\n{\n            'v': 5,\n            'f': \"5\",\n        },\nfalse,\n\"2021-07-24 10:59:37\",\n\"\\ud83e\\udd14\\nWow look at this\\nhttps://t.co/9nq8UgF6nA\\n\\n#Tokyo2020 \\n#sport  #sports \\n#medals \\n#Trending\\n#Olympics \\n#OlympicGames\",\n\"['Tokyo2020', 'sport', 'sports', 'medals', 'Trending', 'Olympics', 'OlympicGames']\",\n\"Twitter Web App\"],\n [{\n            'v': 232,\n            'f': \"232\",\n        },\n{\n            'v': \"1418888547881431048\",\n            'f': \"1418888547881431048\",\n        },\n\"anon69\",\n{\n            'v': NaN,\n            'f': \"NaN\",\n        },\n\"jus a sk8r grrrrrrrrrrrllllllll //////\",\n\"2021-07-24 10:47:24\",\n{\n            'v': 1,\n            'f': \"1\",\n        },\n{\n            'v': 0,\n            'f': \"0\",\n        },\n{\n            'v': 0,\n            'f': \"0\",\n        },\nfalse,\n\"2021-07-24 10:59:26\",\n\"#Tokyo2020 \\nSome sick hair in opening ceremony last night on #channel7\",\n\"['Tokyo2020', 'channel7']\",\n\"Twitter for iPhone\"],\n [{\n            'v': 262,\n            'f': \"262\",\n        },\n{\n            'v': \"1418888442499457030\",\n            'f': \"1418888442499457030\",\n        },\n\"anon69\",\n{\n            'v': NaN,\n            'f': \"NaN\",\n        },\n\"jus a sk8r grrrrrrrrrrrllllllll //////\",\n\"2021-07-24 10:47:24\",\n{\n            'v': 1,\n            'f': \"1\",\n        },\n{\n            'v': 0,\n            'f': \"0\",\n        },\n{\n            'v': 0,\n            'f': \"0\",\n        },\nfalse,\n\"2021-07-24 10:59:01\",\n\"#Tokyo2020 \\n\\nThe opening ceremony was alright\",\n\"['Tokyo2020']\",\n\"Twitter for iPhone\"]],\n        columns: [[\"number\", \"index\"], [\"number\", \"id\"], [\"string\", \"user_name\"], [\"number\", \"user_location\"], [\"string\", \"user_description\"], [\"string\", \"user_created\"], [\"number\", \"user_followers\"], [\"number\", \"user_friends\"], [\"number\", \"user_favourites\"], [\"string\", \"user_verified\"], [\"string\", \"date\"], [\"string\", \"text\"], [\"string\", \"hashtags\"], [\"string\", \"source\"]],\n        columnOptions: [{\"width\": \"1px\", \"className\": \"index_column\"}],\n        rowsPerPage: 25,\n        helpUrl: \"https://colab.research.google.com/notebooks/data_table.ipynb\",\n        suppressOutputScrolling: true,\n        minimumWidth: undefined,\n      });\n    ",
            "text/html": [
              "<div>\n",
              "<style scoped>\n",
              "    .dataframe tbody tr th:only-of-type {\n",
              "        vertical-align: middle;\n",
              "    }\n",
              "\n",
              "    .dataframe tbody tr th {\n",
              "        vertical-align: top;\n",
              "    }\n",
              "\n",
              "    .dataframe thead th {\n",
              "        text-align: right;\n",
              "    }\n",
              "</style>\n",
              "<table border=\"1\" class=\"dataframe\">\n",
              "  <thead>\n",
              "    <tr style=\"text-align: right;\">\n",
              "      <th></th>\n",
              "      <th>id</th>\n",
              "      <th>user_name</th>\n",
              "      <th>user_location</th>\n",
              "      <th>user_description</th>\n",
              "      <th>user_created</th>\n",
              "      <th>user_followers</th>\n",
              "      <th>user_friends</th>\n",
              "      <th>user_favourites</th>\n",
              "      <th>user_verified</th>\n",
              "      <th>date</th>\n",
              "      <th>text</th>\n",
              "      <th>hashtags</th>\n",
              "      <th>source</th>\n",
              "    </tr>\n",
              "  </thead>\n",
              "  <tbody>\n",
              "    <tr>\n",
              "      <th>67</th>\n",
              "      <td>1418889126858919938</td>\n",
              "      <td>anon69</td>\n",
              "      <td>NaN</td>\n",
              "      <td>jus a sk8r grrrrrrrrrrrllllllll //////</td>\n",
              "      <td>2021-07-24 10:47:24</td>\n",
              "      <td>1</td>\n",
              "      <td>0</td>\n",
              "      <td>0</td>\n",
              "      <td>False</td>\n",
              "      <td>2021-07-24 11:01:44</td>\n",
              "      <td>#Tokyo2020 \\n\\nWhere’s porridge? https://t.co/...</td>\n",
              "      <td>['Tokyo2020']</td>\n",
              "      <td>Twitter for iPhone</td>\n",
              "    </tr>\n",
              "    <tr>\n",
              "      <th>225</th>\n",
              "      <td>1418888595956437001</td>\n",
              "      <td>AmazingNews</td>\n",
              "      <td>NaN</td>\n",
              "      <td>It's amazing...</td>\n",
              "      <td>2021-07-24 10:45:12</td>\n",
              "      <td>0</td>\n",
              "      <td>6</td>\n",
              "      <td>5</td>\n",
              "      <td>False</td>\n",
              "      <td>2021-07-24 10:59:37</td>\n",
              "      <td>🤔\\nWow look at this\\nhttps://t.co/9nq8UgF6nA\\n...</td>\n",
              "      <td>['Tokyo2020', 'sport', 'sports', 'medals', 'Tr...</td>\n",
              "      <td>Twitter Web App</td>\n",
              "    </tr>\n",
              "    <tr>\n",
              "      <th>232</th>\n",
              "      <td>1418888547881431048</td>\n",
              "      <td>anon69</td>\n",
              "      <td>NaN</td>\n",
              "      <td>jus a sk8r grrrrrrrrrrrllllllll //////</td>\n",
              "      <td>2021-07-24 10:47:24</td>\n",
              "      <td>1</td>\n",
              "      <td>0</td>\n",
              "      <td>0</td>\n",
              "      <td>False</td>\n",
              "      <td>2021-07-24 10:59:26</td>\n",
              "      <td>#Tokyo2020 \\nSome sick hair in opening ceremon...</td>\n",
              "      <td>['Tokyo2020', 'channel7']</td>\n",
              "      <td>Twitter for iPhone</td>\n",
              "    </tr>\n",
              "    <tr>\n",
              "      <th>262</th>\n",
              "      <td>1418888442499457030</td>\n",
              "      <td>anon69</td>\n",
              "      <td>NaN</td>\n",
              "      <td>jus a sk8r grrrrrrrrrrrllllllll //////</td>\n",
              "      <td>2021-07-24 10:47:24</td>\n",
              "      <td>1</td>\n",
              "      <td>0</td>\n",
              "      <td>0</td>\n",
              "      <td>False</td>\n",
              "      <td>2021-07-24 10:59:01</td>\n",
              "      <td>#Tokyo2020 \\n\\nThe opening ceremony was alright</td>\n",
              "      <td>['Tokyo2020']</td>\n",
              "      <td>Twitter for iPhone</td>\n",
              "    </tr>\n",
              "  </tbody>\n",
              "</table>\n",
              "</div>"
            ],
            "text/plain": [
              "                      id  ...              source\n",
              "67   1418889126858919938  ...  Twitter for iPhone\n",
              "225  1418888595956437001  ...     Twitter Web App\n",
              "232  1418888547881431048  ...  Twitter for iPhone\n",
              "262  1418888442499457030  ...  Twitter for iPhone\n",
              "\n",
              "[4 rows x 13 columns]"
            ]
          },
          "metadata": {},
          "execution_count": 244
        }
      ]
    },
    {
      "cell_type": "code",
      "metadata": {
        "colab": {
          "base_uri": "https://localhost:8080/"
        },
        "id": "q3C6bnHzbjCd",
        "cellView": "form",
        "outputId": "b3d74798-5b71-4588-f5ee-b4e34fb7d9a0"
      },
      "source": [
        "#@title Usuarios verificados ordenados por suma de favoritos en tweets\n",
        "users_ver_fav = dataset[dataset['user_verified'] == True].groupby([\"user_name\"], dropna=True).sum().sort_values(by=['favorites'], ascending=False)['favorites']\n",
        "users_ver_fav.head(10)"
      ],
      "execution_count": null,
      "outputs": [
        {
          "output_type": "execute_result",
          "data": {
            "text/plain": [
              "user_name\n",
              "Badminton Talk          93097.0\n",
              "BBC Sport               87506.0\n",
              "#Tokyo2020              63887.0\n",
              "Olympics                60123.0\n",
              "Rappler                 56274.0\n",
              "#Tokyo2020 for India    45324.0\n",
              "ABS-CBN News            42710.0\n",
              "Gretchen Ho             39686.0\n",
              "Team GB                 33778.0\n",
              "Devin Heroux            33486.0\n",
              "Name: favorites, dtype: float64"
            ]
          },
          "metadata": {},
          "execution_count": 226
        }
      ]
    },
    {
      "cell_type": "code",
      "metadata": {
        "colab": {
          "base_uri": "https://localhost:8080/",
          "height": 557
        },
        "id": "LzIzL_unbmwv",
        "cellView": "form",
        "outputId": "9cf50779-9448-4914-b3fe-458dad866cb2"
      },
      "source": [
        "#@title Tweets relacionados a la pandemia\n",
        "cv_tweets = dataset_clean[dataset_clean['text'].str.contains(\"Covid|covid|Pandemic|pandemic|COVID|Corona|corona|Virus|virus\", na=False)]\n",
        "cv_tweets.head(4)"
      ],
      "execution_count": null,
      "outputs": [
        {
          "output_type": "execute_result",
          "data": {
            "application/vnd.google.colaboratory.module+javascript": "\n      import \"https://ssl.gstatic.com/colaboratory/data_table/a6224c040fa35dcf/data_table.js\";\n\n      window.createDataTable({\n        data: [[{\n            'v': 233,\n            'f': \"233\",\n        },\n{\n            'v': \"1418888542697132032\",\n            'f': \"1418888542697132032\",\n        },\n\"Muhit\",\n\"World\",\n\"Now: Senior Officer - Foreign Embassy | Ex: EU (Netherlands) \\u25ab\\ufe0fADB Bank (Asia Pacific) \\u25ab\\ufe0fJICA (Japan)\\u25ab\\ufe0fUN Women \\u25ab\\ufe0fHSBC Plc (UK) \\u25ab\\ufe0fRT # E\",\n\"2015-11-04 17:01:19\",\n{\n            'v': 685,\n            'f': \"685\",\n        },\n{\n            'v': 4995,\n            'f': \"4995\",\n        },\n{\n            'v': 20253,\n            'f': \"20253\",\n        },\nfalse,\n\"2021-07-24 10:59:24\",\n\"#BREAKING \\n\\n100 #TeamUSA members have not been vaccinated\\n\\nhttps://t.co/YYuaYC8Hzm\\n\\n#Tokyo2020 \\n\\nSpread virus in\\u2026 https://t.co/UbhrFtA8S4\",\n\"['BREAKING', 'TeamUSA', 'Tokyo2020']\",\n\"Twitter Web App\"],\n [{\n            'v': 279,\n            'f': \"279\",\n        },\n{\n            'v': \"1418888385436000259\",\n            'f': \"1418888385436000259\",\n        },\n\"Gaelen \\u2618\\ufe0f\",\n\"VIP \\ud83d\\udc49\\ud83c\\udffb\",\n\"Bestower of good fortune, atp bettor, grinder, seeker of truth\",\n\"2021-02-05 17:32:47\",\n{\n            'v': 2321,\n            'f': \"2321\",\n        },\n{\n            'v': 70,\n            'f': \"70\",\n        },\n{\n            'v': 4522,\n            'f': \"4522\",\n        },\nfalse,\n\"2021-07-24 10:58:47\",\n\"@paraplas5 Bro this covid stuff is ruining a lot with the rankings and the Olympics have completely killed these fi\\u2026 https://t.co/TLFgdYwMxF\",\nNaN,\n\"Twitter for iPad\"],\n [{\n            'v': 420,\n            'f': \"420\",\n        },\n{\n            'v': \"1418887781099651088\",\n            'f': \"1418887781099651088\",\n        },\n\"One News Page\",\n\"New York, USA\",\n\"One News Page: The world's trusted news portal, established 2008.\\nFeaturing videos, headlines and articles from hand-curated trusted media outlets globally.\",\n\"2008-12-27 10:08:12\",\n{\n            'v': 1975,\n            'f': \"1975\",\n        },\n{\n            'v': 855,\n            'f': \"855\",\n        },\n{\n            'v': 223,\n            'f': \"223\",\n        },\nfalse,\n\"2021-07-24 10:56:23\",\n\"Pandemic-hit Tokyo Olympics open in low-key ceremony without fans\\nhttps://t.co/ZKSpe84LKZ \\ud83c\\udf10\\n\\n#Tokyo2020 #Olympics\",\n\"['Tokyo2020', 'Olympics']\",\n\"Twitter Web App\"],\n [{\n            'v': 636,\n            'f': \"636\",\n        },\n{\n            'v': \"1418887009444237314\",\n            'f': \"1418887009444237314\",\n        },\n\"BEPOP\\u6d45\\u8349\",\nNaN,\n\"This is the shop of japaneese character stuff.We have many kind of character,demonslayer kimetsunoyaiba,totoro,sumikkogurashi,and so on.\",\n\"2021-06-25 05:36:56\",\n{\n            'v': 0,\n            'f': \"0\",\n        },\n{\n            'v': 0,\n            'f': \"0\",\n        },\n{\n            'v': 11,\n            'f': \"11\",\n        },\nfalse,\n\"2021-07-24 10:53:19\",\n\"Which country do you cheer up \\uff1f\\n#Olympics #Tokyo2020 #Covid_19 #asakusa https://t.co/eTy8I7FX0D\",\n\"['Olympics', 'Tokyo2020', 'Covid_19', 'asakusa']\",\n\"Twitter for Android\"]],\n        columns: [[\"number\", \"index\"], [\"number\", \"id\"], [\"string\", \"user_name\"], [\"string\", \"user_location\"], [\"string\", \"user_description\"], [\"string\", \"user_created\"], [\"number\", \"user_followers\"], [\"number\", \"user_friends\"], [\"number\", \"user_favourites\"], [\"string\", \"user_verified\"], [\"string\", \"date\"], [\"string\", \"text\"], [\"string\", \"hashtags\"], [\"string\", \"source\"]],\n        columnOptions: [{\"width\": \"1px\", \"className\": \"index_column\"}],\n        rowsPerPage: 25,\n        helpUrl: \"https://colab.research.google.com/notebooks/data_table.ipynb\",\n        suppressOutputScrolling: true,\n        minimumWidth: undefined,\n      });\n    ",
            "text/html": [
              "<div>\n",
              "<style scoped>\n",
              "    .dataframe tbody tr th:only-of-type {\n",
              "        vertical-align: middle;\n",
              "    }\n",
              "\n",
              "    .dataframe tbody tr th {\n",
              "        vertical-align: top;\n",
              "    }\n",
              "\n",
              "    .dataframe thead th {\n",
              "        text-align: right;\n",
              "    }\n",
              "</style>\n",
              "<table border=\"1\" class=\"dataframe\">\n",
              "  <thead>\n",
              "    <tr style=\"text-align: right;\">\n",
              "      <th></th>\n",
              "      <th>id</th>\n",
              "      <th>user_name</th>\n",
              "      <th>user_location</th>\n",
              "      <th>user_description</th>\n",
              "      <th>user_created</th>\n",
              "      <th>user_followers</th>\n",
              "      <th>user_friends</th>\n",
              "      <th>user_favourites</th>\n",
              "      <th>user_verified</th>\n",
              "      <th>date</th>\n",
              "      <th>text</th>\n",
              "      <th>hashtags</th>\n",
              "      <th>source</th>\n",
              "    </tr>\n",
              "  </thead>\n",
              "  <tbody>\n",
              "    <tr>\n",
              "      <th>233</th>\n",
              "      <td>1418888542697132032</td>\n",
              "      <td>Muhit</td>\n",
              "      <td>World</td>\n",
              "      <td>Now: Senior Officer - Foreign Embassy | Ex: EU...</td>\n",
              "      <td>2015-11-04 17:01:19</td>\n",
              "      <td>685</td>\n",
              "      <td>4995</td>\n",
              "      <td>20253</td>\n",
              "      <td>False</td>\n",
              "      <td>2021-07-24 10:59:24</td>\n",
              "      <td>#BREAKING \\n\\n100 #TeamUSA members have not be...</td>\n",
              "      <td>['BREAKING', 'TeamUSA', 'Tokyo2020']</td>\n",
              "      <td>Twitter Web App</td>\n",
              "    </tr>\n",
              "    <tr>\n",
              "      <th>279</th>\n",
              "      <td>1418888385436000259</td>\n",
              "      <td>Gaelen ☘️</td>\n",
              "      <td>VIP 👉🏻</td>\n",
              "      <td>Bestower of good fortune, atp bettor, grinder,...</td>\n",
              "      <td>2021-02-05 17:32:47</td>\n",
              "      <td>2321</td>\n",
              "      <td>70</td>\n",
              "      <td>4522</td>\n",
              "      <td>False</td>\n",
              "      <td>2021-07-24 10:58:47</td>\n",
              "      <td>@paraplas5 Bro this covid stuff is ruining a l...</td>\n",
              "      <td>NaN</td>\n",
              "      <td>Twitter for iPad</td>\n",
              "    </tr>\n",
              "    <tr>\n",
              "      <th>420</th>\n",
              "      <td>1418887781099651088</td>\n",
              "      <td>One News Page</td>\n",
              "      <td>New York, USA</td>\n",
              "      <td>One News Page: The world's trusted news portal...</td>\n",
              "      <td>2008-12-27 10:08:12</td>\n",
              "      <td>1975</td>\n",
              "      <td>855</td>\n",
              "      <td>223</td>\n",
              "      <td>False</td>\n",
              "      <td>2021-07-24 10:56:23</td>\n",
              "      <td>Pandemic-hit Tokyo Olympics open in low-key ce...</td>\n",
              "      <td>['Tokyo2020', 'Olympics']</td>\n",
              "      <td>Twitter Web App</td>\n",
              "    </tr>\n",
              "    <tr>\n",
              "      <th>636</th>\n",
              "      <td>1418887009444237314</td>\n",
              "      <td>BEPOP浅草</td>\n",
              "      <td>NaN</td>\n",
              "      <td>This is the shop of japaneese character stuff....</td>\n",
              "      <td>2021-06-25 05:36:56</td>\n",
              "      <td>0</td>\n",
              "      <td>0</td>\n",
              "      <td>11</td>\n",
              "      <td>False</td>\n",
              "      <td>2021-07-24 10:53:19</td>\n",
              "      <td>Which country do you cheer up ？\\n#Olympics #To...</td>\n",
              "      <td>['Olympics', 'Tokyo2020', 'Covid_19', 'asakusa']</td>\n",
              "      <td>Twitter for Android</td>\n",
              "    </tr>\n",
              "  </tbody>\n",
              "</table>\n",
              "</div>"
            ],
            "text/plain": [
              "                      id  ...               source\n",
              "233  1418888542697132032  ...      Twitter Web App\n",
              "279  1418888385436000259  ...     Twitter for iPad\n",
              "420  1418887781099651088  ...      Twitter Web App\n",
              "636  1418887009444237314  ...  Twitter for Android\n",
              "\n",
              "[4 rows x 13 columns]"
            ]
          },
          "metadata": {},
          "execution_count": 227
        }
      ]
    },
    {
      "cell_type": "code",
      "metadata": {
        "colab": {
          "base_uri": "https://localhost:8080/",
          "height": 541
        },
        "id": "s2Le16EMk-2L",
        "cellView": "form",
        "outputId": "ac653404-5f6e-4662-e311-9fa006ad9062"
      },
      "source": [
        "#@title Tweets que hablan de feminismo o relacionado\n",
        "feminism_tweets = dataset_clean[dataset_clean['text'].str.contains(\"feminism|Feminism|Gender-Equal|gender-equal|sexualized|sexualisation|sexualization|sexist|sexism|Women Empowerment|women empowerment\", na=False)]\n",
        "feminism_tweets.head(4)"
      ],
      "execution_count": null,
      "outputs": [
        {
          "output_type": "execute_result",
          "data": {
            "application/vnd.google.colaboratory.module+javascript": "\n      import \"https://ssl.gstatic.com/colaboratory/data_table/a6224c040fa35dcf/data_table.js\";\n\n      window.createDataTable({\n        data: [[{\n            'v': 5,\n            'f': \"5\",\n        },\n{\n            'v': \"1418885092571766792\",\n            'f': \"1418885092571766792\",\n        },\n\"Sab Joke H\",\n\"India\",\n\"Follows you\",\n\"2020-09-05 19:50:35\",\n{\n            'v': 107,\n            'f': \"107\",\n        },\n{\n            'v': 88,\n            'f': \"88\",\n        },\n{\n            'v': 102,\n            'f': \"102\",\n        },\nfalse,\n\"2021-07-24 10:45:42\",\n\"#Tokyo2020 #Olympics\\n#MirabaiChanu\\n#Weightlifting\\n\\nWomen Empowerment\\nREAL                         Vs\\u2026 https://t.co/XLsJb2RH76\",\n\"['Tokyo2020', 'Olympics', 'MirabaiChanu', 'Weightlifting']\",\n\"Twitter for Android\"],\n [{\n            'v': 7238,\n            'f': \"7238\",\n        },\n{\n            'v': \"1418866240290914304\",\n            'f': \"1418866240290914304\",\n        },\n\"Shree Hari Raam\",\nNaN,\nNaN,\n\"2020-06-02 11:53:28\",\n{\n            'v': 13,\n            'f': \"13\",\n        },\n{\n            'v': 230,\n            'f': \"230\",\n        },\n{\n            'v': 739,\n            'f': \"739\",\n        },\nfalse,\n\"2021-07-24 09:30:47\",\n\"Witness the real Women Empowerment, feminism!\\nSo proud of #MirabaiChanu\\n#Tokyo2020 \\n\\n\\ud83c\\uddee\\ud83c\\uddf3 @Tokyo2020\",\n\"['MirabaiChanu', 'Tokyo2020']\",\n\"Twitter Web App\"],\n [{\n            'v': 7429,\n            'f': \"7429\",\n        },\n{\n            'v': \"1418865821355499523\",\n            'f': \"1418865821355499523\",\n        },\n\"Pooja Mutha\",\nNaN,\n\"Engineer by choice \\nCricket \\ud83c\\udfcf\",\n\"2021-06-18 09:08:58\",\n{\n            'v': 25,\n            'f': \"25\",\n        },\n{\n            'v': 145,\n            'f': \"145\",\n        },\n{\n            'v': 6861,\n            'f': \"6861\",\n        },\nfalse,\n\"2021-07-24 09:29:07\",\n\"All I want to say \\nThis is real Women Empowerment \\nIndian Female Sports Athletes leading the way \\nNow time for educ\\u2026 https://t.co/fbnf3xksbL\",\nNaN,\n\"Twitter for Android\"],\n [{\n            'v': 8217,\n            'f': \"8217\",\n        },\n{\n            'v': \"1418863682424029185\",\n            'f': \"1418863682424029185\",\n        },\n\"Om Ratna \\ud83d\\udd49\\ud83c\\uddee\\ud83c\\uddf3\",\n\"Bihar, India\",\n\"Nationalist \\n                                                                           Bihari \\u2665\\ufe0f Future Lawyer, Swamsevak @RSS \\n         \\u0a9c\\u0aaf \\u0aa6\\u0acd\\u0ab5\\u0abe\\u0ab0\\u0a95\\u0abe\\u0aa7\\u0ac0\\u0ab6 !.\",\n\"2019-03-03 10:46:32\",\n{\n            'v': 286,\n            'f': \"286\",\n        },\n{\n            'v': 1124,\n            'f': \"1124\",\n        },\n{\n            'v': 48688,\n            'f': \"48688\",\n        },\nfalse,\n\"2021-07-24 09:20:37\",\n\"This is what real #Feminism looks like.\\ud83d\\ude0c\\u2764 Congratulations      #MirabaiChanu didi on winning silver in the women's\\u2026 https://t.co/wXGlw36oO2\",\n\"['Feminism', 'MirabaiChanu']\",\n\"Twitter for Android\"]],\n        columns: [[\"number\", \"index\"], [\"number\", \"id\"], [\"string\", \"user_name\"], [\"string\", \"user_location\"], [\"string\", \"user_description\"], [\"string\", \"user_created\"], [\"number\", \"user_followers\"], [\"number\", \"user_friends\"], [\"number\", \"user_favourites\"], [\"string\", \"user_verified\"], [\"string\", \"date\"], [\"string\", \"text\"], [\"string\", \"hashtags\"], [\"string\", \"source\"]],\n        columnOptions: [{\"width\": \"1px\", \"className\": \"index_column\"}],\n        rowsPerPage: 25,\n        helpUrl: \"https://colab.research.google.com/notebooks/data_table.ipynb\",\n        suppressOutputScrolling: true,\n        minimumWidth: undefined,\n      });\n    ",
            "text/html": [
              "<div>\n",
              "<style scoped>\n",
              "    .dataframe tbody tr th:only-of-type {\n",
              "        vertical-align: middle;\n",
              "    }\n",
              "\n",
              "    .dataframe tbody tr th {\n",
              "        vertical-align: top;\n",
              "    }\n",
              "\n",
              "    .dataframe thead th {\n",
              "        text-align: right;\n",
              "    }\n",
              "</style>\n",
              "<table border=\"1\" class=\"dataframe\">\n",
              "  <thead>\n",
              "    <tr style=\"text-align: right;\">\n",
              "      <th></th>\n",
              "      <th>id</th>\n",
              "      <th>user_name</th>\n",
              "      <th>user_location</th>\n",
              "      <th>user_description</th>\n",
              "      <th>user_created</th>\n",
              "      <th>user_followers</th>\n",
              "      <th>user_friends</th>\n",
              "      <th>user_favourites</th>\n",
              "      <th>user_verified</th>\n",
              "      <th>date</th>\n",
              "      <th>text</th>\n",
              "      <th>hashtags</th>\n",
              "      <th>source</th>\n",
              "    </tr>\n",
              "  </thead>\n",
              "  <tbody>\n",
              "    <tr>\n",
              "      <th>5</th>\n",
              "      <td>1418885092571766792</td>\n",
              "      <td>Sab Joke H</td>\n",
              "      <td>India</td>\n",
              "      <td>Follows you</td>\n",
              "      <td>2020-09-05 19:50:35</td>\n",
              "      <td>107</td>\n",
              "      <td>88</td>\n",
              "      <td>102</td>\n",
              "      <td>False</td>\n",
              "      <td>2021-07-24 10:45:42</td>\n",
              "      <td>#Tokyo2020 #Olympics\\n#MirabaiChanu\\n#Weightli...</td>\n",
              "      <td>['Tokyo2020', 'Olympics', 'MirabaiChanu', 'Wei...</td>\n",
              "      <td>Twitter for Android</td>\n",
              "    </tr>\n",
              "    <tr>\n",
              "      <th>7238</th>\n",
              "      <td>1418866240290914304</td>\n",
              "      <td>Shree Hari Raam</td>\n",
              "      <td>NaN</td>\n",
              "      <td>NaN</td>\n",
              "      <td>2020-06-02 11:53:28</td>\n",
              "      <td>13</td>\n",
              "      <td>230</td>\n",
              "      <td>739</td>\n",
              "      <td>False</td>\n",
              "      <td>2021-07-24 09:30:47</td>\n",
              "      <td>Witness the real Women Empowerment, feminism!\\...</td>\n",
              "      <td>['MirabaiChanu', 'Tokyo2020']</td>\n",
              "      <td>Twitter Web App</td>\n",
              "    </tr>\n",
              "    <tr>\n",
              "      <th>7429</th>\n",
              "      <td>1418865821355499523</td>\n",
              "      <td>Pooja Mutha</td>\n",
              "      <td>NaN</td>\n",
              "      <td>Engineer by choice \\nCricket 🏏</td>\n",
              "      <td>2021-06-18 09:08:58</td>\n",
              "      <td>25</td>\n",
              "      <td>145</td>\n",
              "      <td>6861</td>\n",
              "      <td>False</td>\n",
              "      <td>2021-07-24 09:29:07</td>\n",
              "      <td>All I want to say \\nThis is real Women Empower...</td>\n",
              "      <td>NaN</td>\n",
              "      <td>Twitter for Android</td>\n",
              "    </tr>\n",
              "    <tr>\n",
              "      <th>8217</th>\n",
              "      <td>1418863682424029185</td>\n",
              "      <td>Om Ratna 🕉🇮🇳</td>\n",
              "      <td>Bihar, India</td>\n",
              "      <td>Nationalist \\n                                ...</td>\n",
              "      <td>2019-03-03 10:46:32</td>\n",
              "      <td>286</td>\n",
              "      <td>1124</td>\n",
              "      <td>48688</td>\n",
              "      <td>False</td>\n",
              "      <td>2021-07-24 09:20:37</td>\n",
              "      <td>This is what real #Feminism looks like.😌❤ Cong...</td>\n",
              "      <td>['Feminism', 'MirabaiChanu']</td>\n",
              "      <td>Twitter for Android</td>\n",
              "    </tr>\n",
              "  </tbody>\n",
              "</table>\n",
              "</div>"
            ],
            "text/plain": [
              "                       id  ...               source\n",
              "5     1418885092571766792  ...  Twitter for Android\n",
              "7238  1418866240290914304  ...      Twitter Web App\n",
              "7429  1418865821355499523  ...  Twitter for Android\n",
              "8217  1418863682424029185  ...  Twitter for Android\n",
              "\n",
              "[4 rows x 13 columns]"
            ]
          },
          "metadata": {},
          "execution_count": 228
        }
      ]
    },
    {
      "cell_type": "code",
      "metadata": {
        "colab": {
          "base_uri": "https://localhost:8080/",
          "height": 423
        },
        "id": "ExvNhuOVbrBG",
        "cellView": "form",
        "outputId": "bf6962c7-b921-43b8-c374-af11baeb842e"
      },
      "source": [
        "#@title Tweets más retwitteados\n",
        "dataset[['text', 'retweets']][dataset['retweets'] > 0].sort_values(by=['retweets'], ascending=False)"
      ],
      "execution_count": null,
      "outputs": [
        {
          "output_type": "execute_result",
          "data": {
            "text/html": [
              "<div>\n",
              "<style scoped>\n",
              "    .dataframe tbody tr th:only-of-type {\n",
              "        vertical-align: middle;\n",
              "    }\n",
              "\n",
              "    .dataframe tbody tr th {\n",
              "        vertical-align: top;\n",
              "    }\n",
              "\n",
              "    .dataframe thead th {\n",
              "        text-align: right;\n",
              "    }\n",
              "</style>\n",
              "<table border=\"1\" class=\"dataframe\">\n",
              "  <thead>\n",
              "    <tr style=\"text-align: right;\">\n",
              "      <th></th>\n",
              "      <th>text</th>\n",
              "      <th>retweets</th>\n",
              "    </tr>\n",
              "  </thead>\n",
              "  <tbody>\n",
              "    <tr>\n",
              "      <th>145851</th>\n",
              "      <td>Preliminary - MD Group D\\nMohammad Ahsan/Hendr...</td>\n",
              "      <td>6429</td>\n",
              "    </tr>\n",
              "    <tr>\n",
              "      <th>111971</th>\n",
              "      <td>GOLD FOR THE PHILIPPINES!!!\\n\\nBREAKING NEWS. ...</td>\n",
              "      <td>4917</td>\n",
              "    </tr>\n",
              "    <tr>\n",
              "      <th>91091</th>\n",
              "      <td>Preliminary - MD Group A\\nMarcus Fernaldi Gide...</td>\n",
              "      <td>4690</td>\n",
              "    </tr>\n",
              "    <tr>\n",
              "      <th>115168</th>\n",
              "      <td>Here’s Hidilyn Diaz, the first ever Philippine...</td>\n",
              "      <td>4113</td>\n",
              "    </tr>\n",
              "    <tr>\n",
              "      <th>25986</th>\n",
              "      <td>HISTORY FOR #BADMINTON INDONESIA\\n\\n7 - FOR TH...</td>\n",
              "      <td>4020</td>\n",
              "    </tr>\n",
              "    <tr>\n",
              "      <th>...</th>\n",
              "      <td>...</td>\n",
              "      <td>...</td>\n",
              "    </tr>\n",
              "    <tr>\n",
              "      <th>84885</th>\n",
              "      <td>Bhavani Devi - #Fencing \\nMen's Team - #Archer...</td>\n",
              "      <td>1</td>\n",
              "    </tr>\n",
              "    <tr>\n",
              "      <th>84882</th>\n",
              "      <td>Margielyn Didal makes it to the finals! You ma...</td>\n",
              "      <td>1</td>\n",
              "    </tr>\n",
              "    <tr>\n",
              "      <th>84880</th>\n",
              "      <td>Matsuyama ready to begin gold medal quest at t...</td>\n",
              "      <td>1</td>\n",
              "    </tr>\n",
              "    <tr>\n",
              "      <th>11506</th>\n",
              "      <td>The motivational speeches of our #PrimeMiniste...</td>\n",
              "      <td>1</td>\n",
              "    </tr>\n",
              "    <tr>\n",
              "      <th>3</th>\n",
              "      <td>Q4: 🇬🇧3-1🇿🇦\\n\\nGreat Britain finally find a wa...</td>\n",
              "      <td>1</td>\n",
              "    </tr>\n",
              "  </tbody>\n",
              "</table>\n",
              "<p>37603 rows × 2 columns</p>\n",
              "</div>"
            ],
            "text/plain": [
              "                                                     text  retweets\n",
              "145851  Preliminary - MD Group D\\nMohammad Ahsan/Hendr...      6429\n",
              "111971  GOLD FOR THE PHILIPPINES!!!\\n\\nBREAKING NEWS. ...      4917\n",
              "91091   Preliminary - MD Group A\\nMarcus Fernaldi Gide...      4690\n",
              "115168  Here’s Hidilyn Diaz, the first ever Philippine...      4113\n",
              "25986   HISTORY FOR #BADMINTON INDONESIA\\n\\n7 - FOR TH...      4020\n",
              "...                                                   ...       ...\n",
              "84885   Bhavani Devi - #Fencing \\nMen's Team - #Archer...         1\n",
              "84882   Margielyn Didal makes it to the finals! You ma...         1\n",
              "84880   Matsuyama ready to begin gold medal quest at t...         1\n",
              "11506   The motivational speeches of our #PrimeMiniste...         1\n",
              "3       Q4: 🇬🇧3-1🇿🇦\\n\\nGreat Britain finally find a wa...         1\n",
              "\n",
              "[37603 rows x 2 columns]"
            ]
          },
          "metadata": {},
          "execution_count": 229
        }
      ]
    },
    {
      "cell_type": "markdown",
      "metadata": {
        "id": "_9ZZowQfU8bR"
      },
      "source": [
        "##Visualizacion de datos y otros "
      ]
    },
    {
      "cell_type": "code",
      "metadata": {
        "colab": {
          "base_uri": "https://localhost:8080/",
          "height": 398
        },
        "id": "mYPre11JsUaG",
        "cellView": "form",
        "outputId": "66d2b1e6-de4f-40cf-8f72-504fa8bf0c50"
      },
      "source": [
        "#@title Cantidad de tweets (Escala logarítmica)\n",
        "# Distribución de las fuentes de tweets\n",
        "visual_data = dataset_clean\n",
        "visual_data[\"source\"] = visual_data[\"source\"].str.replace(\"Advertisers.\", \"Advertisers\").replace(r\" - LiveCut\", \"\", regex=True)\n",
        "visual_data = dataset.groupby([\"source\"]).size()\n",
        "visual_data = visual_data.sort_values(ascending=False).where(lambda x : x > 100).dropna()\n",
        "visual_data = visual_data.rename(lambda x: x.replace(\"Twitter for \", \"\").replace(\"Twitter \", \"\").replace(\"Powered by \", \"\"))\n",
        "visual_data.plot.bar(x=\"source\", logy=True)\n",
        "plt.ylabel(\"Cantidad de tweets (Escala logarítmica)\")\n",
        "plt.xlabel(\"Fuente\")\n",
        "plt.title(\"Tweets por fuente\")\n",
        "plt.show()"
      ],
      "execution_count": null,
      "outputs": [
        {
          "output_type": "display_data",
          "data": {
            "image/png": "[encoded data removed]",
            "text/plain": [
              "<Figure size 432x288 with 1 Axes>"
            ]
          },
          "metadata": {
            "needs_background": "light"
          }
        }
      ]
    },
    {
      "cell_type": "code",
      "metadata": {
        "id": "mpJoX1eAbTh0"
      },
      "source": [
        "new_data = dataset_clean.copy(True)"
      ],
      "execution_count": null,
      "outputs": []
    },
    {
      "cell_type": "code",
      "metadata": {
        "colab": {
          "base_uri": "https://localhost:8080/",
          "height": 298
        },
        "id": "gfNtLx4rYvWs",
        "cellView": "form",
        "outputId": "fdb5bf99-3421-4516-a25c-3624386fd31c"
      },
      "source": [
        "#@title Tweets por hora\n",
        "# Distribución de tweets por hora\n",
        "visual_data = new_data.copy(True)\n",
        "visual_data['date'] = pd.to_datetime(new_data['date'], errors='coerce').dt.hour.astype('Int64')\n",
        "visual_data = visual_data.groupby([\"date\"]).size()\n",
        "visual_data.plot.bar(x=\"date\")\n",
        "plt.ylabel(\"Cantidad de tweets\")\n",
        "plt.xlabel(\"Hora\")\n",
        "plt.title(\"Tweets por hora\")\n",
        "plt.show()"
      ],
      "execution_count": null,
      "outputs": [
        {
          "output_type": "display_data",
          "data": {
            "image/png": "[encoded data removed]",
            "text/plain": [
              "<Figure size 432x288 with 1 Axes>"
            ]
          },
          "metadata": {
            "needs_background": "light"
          }
        }
      ]
    },
    {
      "cell_type": "code",
      "metadata": {
        "colab": {
          "base_uri": "https://localhost:8080/",
          "height": 508
        },
        "id": "EjXc-XUqiTdQ",
        "cellView": "form",
        "outputId": "df171326-d91b-4fc2-ba3a-5a938808fb4a"
      },
      "source": [
        "#@title Emojis más comunes\n",
        "visual_data = new_data.copy(True)\n",
        "\n",
        "emoji_dict = {}\n",
        "\n",
        "def extract_emojis(s):\n",
        "  return ''.join(c for c in s if c in emoji.UNICODE_EMOJI['en'])\n",
        "\n",
        "def count_emojis(s):\n",
        "  global emoji_dict\n",
        "  for e in emoji.UNICODE_EMOJI['en']:\n",
        "    if e in s:\n",
        "      if e in emoji_dict:\n",
        "        emoji_dict[e] += 1\n",
        "      else:\n",
        "        emoji_dict[e] = 1\n",
        "  return s\n",
        "\n",
        "#visual_data[\"text\"] = visual_data[\"text\"].astype('string').dropna().apply(extract_emojis)\n",
        "#values = visual_data[\"text\"].str.split(expand=True).stack().value_counts()\n",
        "\n",
        "#visual_data[\"text\"].astype('string').dropna().apply(count_emojis)\n",
        "#emoji_dict\n",
        "\n",
        "emojis = tweets.apply(lambda words: [word for word in words if word in emoji.UNICODE_EMOJI['en']])\n",
        "counter = Counter()\n",
        "emojis.apply(lambda x: counter.update(x))\n",
        "\n",
        "emojis = pd.DataFrame(counter.most_common(20))\n",
        "emojis.rename(columns={0:\"Emoji\", 1:\"Count\"}, inplace=True)\n",
        "emojis"
      ],
      "execution_count": null,
      "outputs": [
        {
          "output_type": "execute_result",
          "data": {
            "application/vnd.google.colaboratory.module+javascript": "\n      import \"https://ssl.gstatic.com/colaboratory/data_table/a6224c040fa35dcf/data_table.js\";\n\n      window.createDataTable({\n        data: [[{\n            'v': 0,\n            'f': \"0\",\n        },\n\"\\ud83e\\udd47\",\n{\n            'v': 2712,\n            'f': \"2712\",\n        }],\n [{\n            'v': 1,\n            'f': \"1\",\n        },\n\"\\ud83c\\uddee\\ud83c\\uddf3\",\n{\n            'v': 1836,\n            'f': \"1836\",\n        }],\n [{\n            'v': 2,\n            'f': \"2\",\n        },\n\"\\ud83e\\udd48\",\n{\n            'v': 1549,\n            'f': \"1549\",\n        }],\n [{\n            'v': 3,\n            'f': \"3\",\n        },\n\"\\ud83c\\uddfa\\ud83c\\uddf8\",\n{\n            'v': 1145,\n            'f': \"1145\",\n        }],\n [{\n            'v': 4,\n            'f': \"4\",\n        },\n\"\\ud83c\\uddef\\ud83c\\uddf5\",\n{\n            'v': 970,\n            'f': \"970\",\n        }],\n [{\n            'v': 5,\n            'f': \"5\",\n        },\n\"\\ud83c\\udde6\\ud83c\\uddfa\",\n{\n            'v': 902,\n            'f': \"902\",\n        }],\n [{\n            'v': 6,\n            'f': \"6\",\n        },\n\"\\ud83c\\uddec\\ud83c\\udde7\",\n{\n            'v': 856,\n            'f': \"856\",\n        }],\n [{\n            'v': 7,\n            'f': \"7\",\n        },\n\"\\ud83c\\udde8\\ud83c\\udde6\",\n{\n            'v': 852,\n            'f': \"852\",\n        }],\n [{\n            'v': 8,\n            'f': \"8\",\n        },\n\"\\ud83c\\uddf5\\ud83c\\udded\",\n{\n            'v': 831,\n            'f': \"831\",\n        }],\n [{\n            'v': 9,\n            'f': \"9\",\n        },\n\"\\ud83d\\udd25\",\n{\n            'v': 761,\n            'f': \"761\",\n        }],\n [{\n            'v': 10,\n            'f': \"10\",\n        },\n\"\\ud83d\\udc4f\",\n{\n            'v': 748,\n            'f': \"748\",\n        }],\n [{\n            'v': 11,\n            'f': \"11\",\n        },\n\"\\ud83e\\udd49\",\n{\n            'v': 728,\n            'f': \"728\",\n        }],\n [{\n            'v': 12,\n            'f': \"12\",\n        },\n\"\\ud83c\\uddff\\ud83c\\udde6\",\n{\n            'v': 537,\n            'f': \"537\",\n        }],\n [{\n            'v': 13,\n            'f': \"13\",\n        },\n\"\\ud83c\\udfc5\",\n{\n            'v': 527,\n            'f': \"527\",\n        }],\n [{\n            'v': 14,\n            'f': \"14\",\n        },\n\"\\ud83d\\udcaa\",\n{\n            'v': 521,\n            'f': \"521\",\n        }],\n [{\n            'v': 15,\n            'f': \"15\",\n        },\n\"\\ud83d\\ude02\",\n{\n            'v': 474,\n            'f': \"474\",\n        }],\n [{\n            'v': 16,\n            'f': \"16\",\n        },\n\"\\ud83d\\ude4c\",\n{\n            'v': 417,\n            'f': \"417\",\n        }],\n [{\n            'v': 17,\n            'f': \"17\",\n        },\n\"\\ud83d\\ude0d\",\n{\n            'v': 402,\n            'f': \"402\",\n        }],\n [{\n            'v': 18,\n            'f': \"18\",\n        },\n\"\\ud83c\\udde8\\ud83c\\uddf3\",\n{\n            'v': 396,\n            'f': \"396\",\n        }],\n [{\n            'v': 19,\n            'f': \"19\",\n        },\n\"\\ud83e\\udd29\",\n{\n            'v': 374,\n            'f': \"374\",\n        }]],\n        columns: [[\"number\", \"index\"], [\"string\", \"Emoji\"], [\"number\", \"Count\"]],\n        columnOptions: [{\"width\": \"1px\", \"className\": \"index_column\"}],\n        rowsPerPage: 25,\n        helpUrl: \"https://colab.research.google.com/notebooks/data_table.ipynb\",\n        suppressOutputScrolling: true,\n        minimumWidth: undefined,\n      });\n    ",
            "text/html": [
              "<div>\n",
              "<style scoped>\n",
              "    .dataframe tbody tr th:only-of-type {\n",
              "        vertical-align: middle;\n",
              "    }\n",
              "\n",
              "    .dataframe tbody tr th {\n",
              "        vertical-align: top;\n",
              "    }\n",
              "\n",
              "    .dataframe thead th {\n",
              "        text-align: right;\n",
              "    }\n",
              "</style>\n",
              "<table border=\"1\" class=\"dataframe\">\n",
              "  <thead>\n",
              "    <tr style=\"text-align: right;\">\n",
              "      <th></th>\n",
              "      <th>Emoji</th>\n",
              "      <th>Count</th>\n",
              "    </tr>\n",
              "  </thead>\n",
              "  <tbody>\n",
              "    <tr>\n",
              "      <th>0</th>\n",
              "      <td>🥇</td>\n",
              "      <td>2712</td>\n",
              "    </tr>\n",
              "    <tr>\n",
              "      <th>1</th>\n",
              "      <td>🇮🇳</td>\n",
              "      <td>1836</td>\n",
              "    </tr>\n",
              "    <tr>\n",
              "      <th>2</th>\n",
              "      <td>🥈</td>\n",
              "      <td>1549</td>\n",
              "    </tr>\n",
              "    <tr>\n",
              "      <th>3</th>\n",
              "      <td>🇺🇸</td>\n",
              "      <td>1145</td>\n",
              "    </tr>\n",
              "    <tr>\n",
              "      <th>4</th>\n",
              "      <td>🇯🇵</td>\n",
              "      <td>970</td>\n",
              "    </tr>\n",
              "    <tr>\n",
              "      <th>5</th>\n",
              "      <td>🇦🇺</td>\n",
              "      <td>902</td>\n",
              "    </tr>\n",
              "    <tr>\n",
              "      <th>6</th>\n",
              "      <td>🇬🇧</td>\n",
              "      <td>856</td>\n",
              "    </tr>\n",
              "    <tr>\n",
              "      <th>7</th>\n",
              "      <td>🇨🇦</td>\n",
              "      <td>852</td>\n",
              "    </tr>\n",
              "    <tr>\n",
              "      <th>8</th>\n",
              "      <td>🇵🇭</td>\n",
              "      <td>831</td>\n",
              "    </tr>\n",
              "    <tr>\n",
              "      <th>9</th>\n",
              "      <td>🔥</td>\n",
              "      <td>761</td>\n",
              "    </tr>\n",
              "    <tr>\n",
              "      <th>10</th>\n",
              "      <td>👏</td>\n",
              "      <td>748</td>\n",
              "    </tr>\n",
              "    <tr>\n",
              "      <th>11</th>\n",
              "      <td>🥉</td>\n",
              "      <td>728</td>\n",
              "    </tr>\n",
              "    <tr>\n",
              "      <th>12</th>\n",
              "      <td>🇿🇦</td>\n",
              "      <td>537</td>\n",
              "    </tr>\n",
              "    <tr>\n",
              "      <th>13</th>\n",
              "      <td>🏅</td>\n",
              "      <td>527</td>\n",
              "    </tr>\n",
              "    <tr>\n",
              "      <th>14</th>\n",
              "      <td>💪</td>\n",
              "      <td>521</td>\n",
              "    </tr>\n",
              "    <tr>\n",
              "      <th>15</th>\n",
              "      <td>😂</td>\n",
              "      <td>474</td>\n",
              "    </tr>\n",
              "    <tr>\n",
              "      <th>16</th>\n",
              "      <td>🙌</td>\n",
              "      <td>417</td>\n",
              "    </tr>\n",
              "    <tr>\n",
              "      <th>17</th>\n",
              "      <td>😍</td>\n",
              "      <td>402</td>\n",
              "    </tr>\n",
              "    <tr>\n",
              "      <th>18</th>\n",
              "      <td>🇨🇳</td>\n",
              "      <td>396</td>\n",
              "    </tr>\n",
              "    <tr>\n",
              "      <th>19</th>\n",
              "      <td>🤩</td>\n",
              "      <td>374</td>\n",
              "    </tr>\n",
              "  </tbody>\n",
              "</table>\n",
              "</div>"
            ],
            "text/plain": [
              "   Emoji  Count\n",
              "0      🥇   2712\n",
              "1     🇮🇳   1836\n",
              "2      🥈   1549\n",
              "3     🇺🇸   1145\n",
              "4     🇯🇵    970\n",
              "5     🇦🇺    902\n",
              "6     🇬🇧    856\n",
              "7     🇨🇦    852\n",
              "8     🇵🇭    831\n",
              "9      🔥    761\n",
              "10     👏    748\n",
              "11     🥉    728\n",
              "12    🇿🇦    537\n",
              "13     🏅    527\n",
              "14     💪    521\n",
              "15     😂    474\n",
              "16     🙌    417\n",
              "17     😍    402\n",
              "18    🇨🇳    396\n",
              "19     🤩    374"
            ]
          },
          "metadata": {},
          "execution_count": 233
        }
      ]
    },
    {
      "cell_type": "code",
      "metadata": {
        "colab": {
          "base_uri": "https://localhost:8080/",
          "height": 281
        },
        "id": "ZLcj42sokWQg",
        "cellView": "form",
        "outputId": "2939d302-ab5d-4972-f9f5-544687bf7424"
      },
      "source": [
        "#@title Most Common Words\n",
        "from collections import Counter\n",
        "common_words = pd.DataFrame(Counter(\" \".join(dataset[\"text\"]).split()).most_common(20))\n",
        "common_words.rename(columns={0:\"Words\", 1:\"Count\"}, inplace=True)\n",
        "common_words_plot = common_words.plot.barh(x='Words', y='Count', rot=0, title=\"Most Common Words\")"
      ],
      "execution_count": null,
      "outputs": [
        {
          "output_type": "display_data",
          "data": {
            "image/png": "[encoded data removed]",
            "text/plain": [
              "<Figure size 432x288 with 1 Axes>"
            ]
          },
          "metadata": {
            "needs_background": "light"
          }
        }
      ]
    },
    {
      "cell_type": "code",
      "metadata": {
        "id": "_XsZJWOwZ5Xj",
        "colab": {
          "base_uri": "https://localhost:8080/"
        },
        "cellView": "form",
        "outputId": "df23537f-2e49-48c3-8602-a0b80e892a1d"
      },
      "source": [
        "#@title Tokenizing\n",
        "\n",
        "tweets = dataset['text']\n",
        "tweets = tweets.apply(word_tokenize)\n",
        "tweets.head()"
      ],
      "execution_count": null,
      "outputs": [
        {
          "output_type": "execute_result",
          "data": {
            "text/plain": [
              "0               [Let, the, party, begin, #, Tokyo2020]\n",
              "1    [Congratulations, #, Tokyo2020, https, :, //t....\n",
              "2    [Big, Breaking, Now, Tokyo, Olympic, Update, J...\n",
              "3    [Q4, :, 🇬🇧3-1🇿🇦, Great, Britain, finally, find...\n",
              "4    [All, I, can, think, of, every, time, I, watch...\n",
              "Name: text, dtype: object"
            ]
          },
          "metadata": {},
          "execution_count": 235
        }
      ]
    },
    {
      "cell_type": "code",
      "metadata": {
        "colab": {
          "base_uri": "https://localhost:8080/"
        },
        "cellView": "form",
        "id": "caa5jqMwKgCO",
        "outputId": "5bd2a78a-a2b7-4c03-e0f0-a908d4fd473d"
      },
      "source": [
        "#@title Removing Stopwords\n",
        "stop = stopwords.words('english')\n",
        "tweets_without_stopwords = tweets.apply(lambda words: [word for word in words if word not in stop])\n",
        "tweets_without_stopwords.head(5)"
      ],
      "execution_count": null,
      "outputs": [
        {
          "output_type": "execute_result",
          "data": {
            "text/plain": [
              "0                    [Let, party, begin, #, Tokyo2020]\n",
              "1    [Congratulations, #, Tokyo2020, https, :, //t....\n",
              "2    [Big, Breaking, Now, Tokyo, Olympic, Update, J...\n",
              "3    [Q4, :, 🇬🇧3-1🇿🇦, Great, Britain, finally, find...\n",
              "4    [All, I, think, every, time, I, watch, rings, ...\n",
              "Name: text, dtype: object"
            ]
          },
          "metadata": {},
          "execution_count": 236
        }
      ]
    },
    {
      "cell_type": "code",
      "metadata": {
        "colab": {
          "base_uri": "https://localhost:8080/",
          "height": 281
        },
        "cellView": "form",
        "id": "b_XqeZYULcoh",
        "outputId": "bebf2dfe-a400-4e94-ac34-1ea2f2c295df"
      },
      "source": [
        "#@title Most Common Words (No Stopwords)\n",
        "counter = Counter()\n",
        "tweets_without_stopwords.apply(lambda x: counter.update(x))\n",
        "\n",
        "common_words_without_stopwords = pd.DataFrame(counter.most_common(20))\n",
        "common_words_without_stopwords.rename(columns={0:\"Words\", 1:\"Count\"}, inplace=True)\n",
        "common_words_without_stopwords_plot = common_words_without_stopwords.plot.barh(x='Words', y='Count', rot=0, title=\"Most Common Words (No Stopwords)\")"
      ],
      "execution_count": null,
      "outputs": [
        {
          "output_type": "display_data",
          "data": {
            "image/png": "[encoded data removed]",
            "text/plain": [
              "<Figure size 432x288 with 1 Axes>"
            ]
          },
          "metadata": {
            "needs_background": "light"
          }
        }
      ]
    },
    {
      "cell_type": "code",
      "metadata": {
        "colab": {
          "base_uri": "https://localhost:8080/",
          "height": 281
        },
        "cellView": "form",
        "id": "Q67SwdhhSPxH",
        "outputId": "bb7598c2-4142-4930-ecf4-c0dca0d37ea1"
      },
      "source": [
        "#@title Most Common Tweets (No Stopwords or symbols)\n",
        "symbols = [\"?\",\"#\", \",\", \".\", \"!\", \"'\", \"@\", \"-\", \":\", \"{\", \"}\", \"|\", \"(\", \")\", \";\", \"¡\", \"&\"] \n",
        "tweets_without_symbols = tweets_without_stopwords.apply(lambda words: [word for word in words if word not in symbols])\n",
        "tweets_without_symbols\n",
        "\n",
        "counter = Counter()\n",
        "tweets_without_symbols.apply(lambda x: counter.update(x))\n",
        "\n",
        "tweets_without_symbols = pd.DataFrame(counter.most_common(20))\n",
        "tweets_without_symbols.rename(columns={0:\"Words\", 1:\"Count\"}, inplace=True)\n",
        "tweets_without_symbols_plot = tweets_without_symbols.plot.barh(x='Words', y='Count', rot=0, title=\"Most Common Words (No Stopwords or symbols)\")"
      ],
      "execution_count": null,
      "outputs": [
        {
          "output_type": "display_data",
          "data": {
            "image/png": "[encoded data removed]",
            "text/plain": [
              "<Figure size 432x288 with 1 Axes>"
            ]
          },
          "metadata": {
            "needs_background": "light"
          }
        }
      ]
    },
    {
      "cell_type": "code",
      "metadata": {
        "colab": {
          "base_uri": "https://localhost:8080/",
          "height": 281
        },
        "id": "VzsNiQd1likT",
        "cellView": "form",
        "outputId": "24177433-23cf-4b4b-e512-27e71840c8a1"
      },
      "source": [
        "#@title Most Common Words - Feminist\n",
        "feminist_words = pd.DataFrame(Counter(\" \".join(feminism_tweets[\"text\"]).split()).most_common(20))\n",
        "feminist_words.rename(columns={0:\"Words\", 1:\"Count\"}, inplace=True)\n",
        "feminist_words = common_words.plot.barh(x='Words', y='Count', rot=0, title=\"Most Common Words - Feminist\")"
      ],
      "execution_count": null,
      "outputs": [
        {
          "output_type": "display_data",
          "data": {
            "image/png": "[encoded data removed]",
            "text/plain": [
              "<Figure size 432x288 with 1 Axes>"
            ]
          },
          "metadata": {
            "needs_background": "light"
          }
        }
      ]
    },
    {
      "cell_type": "code",
      "metadata": {
        "colab": {
          "base_uri": "https://localhost:8080/",
          "height": 447
        },
        "id": "08HoFXxul0-h",
        "cellView": "form",
        "outputId": "06935261-e85f-4688-c2bd-58f7b7b65505"
      },
      "source": [
        "#@title Tweets relacionados con la pandemia en el tiempo\n",
        "cv_tweets['date'] = cv_tweets['date'].dt.date\n",
        "cv_tweets = cv_tweets.groupby(cv_tweets['date']).size()\n",
        "cv_tweets.plot.bar(x=\"date\")\n",
        "plt.ylabel(\"Cantidad de tweets\")\n",
        "plt.xlabel(\"Fecha\")\n",
        "plt.title(\"Tweets relacionados con la pandemia en el tiempo\")\n",
        "plt.show()"
      ],
      "execution_count": null,
      "outputs": [
        {
          "output_type": "stream",
          "name": "stderr",
          "text": [
            "/usr/local/lib/python3.7/dist-packages/ipykernel_launcher.py:2: SettingWithCopyWarning: \n",
            "A value is trying to be set on a copy of a slice from a DataFrame.\n",
            "Try using .loc[row_indexer,col_indexer] = value instead\n",
            "\n",
            "See the caveats in the documentation: https://pandas.pydata.org/pandas-docs/stable/user_guide/indexing.html#returning-a-view-versus-a-copy\n",
            "  \n"
          ]
        },
        {
          "output_type": "display_data",
          "data": {
            "image/png": "[encoded data removed]",
            "text/plain": [
              "<Figure size 432x288 with 1 Axes>"
            ]
          },
          "metadata": {
            "needs_background": "light"
          }
        }
      ]
    },
    {
      "cell_type": "code",
      "metadata": {
        "colab": {
          "base_uri": "https://localhost:8080/",
          "height": 447
        },
        "id": "esTANMqmmYk4",
        "cellView": "form",
        "outputId": "224ddabd-696f-4141-be39-056dca599d9f"
      },
      "source": [
        "#@title Tweets relacionados con Chile en el tiempo\n",
        "chile_tweets['date'] = chile_tweets['date'].dt.date\n",
        "chile_tweets = chile_tweets.groupby(chile_tweets['date']).size()\n",
        "chile_tweets.plot.bar(x=\"date\")\n",
        "plt.ylabel(\"Cantidad de tweets\")\n",
        "plt.xlabel(\"Fecha\")\n",
        "plt.title(\"Tweets relacionados con Chile en el tiempo\")\n",
        "plt.show()"
      ],
      "execution_count": null,
      "outputs": [
        {
          "output_type": "stream",
          "name": "stderr",
          "text": [
            "/usr/local/lib/python3.7/dist-packages/ipykernel_launcher.py:2: SettingWithCopyWarning: \n",
            "A value is trying to be set on a copy of a slice from a DataFrame.\n",
            "Try using .loc[row_indexer,col_indexer] = value instead\n",
            "\n",
            "See the caveats in the documentation: https://pandas.pydata.org/pandas-docs/stable/user_guide/indexing.html#returning-a-view-versus-a-copy\n",
            "  \n"
          ]
        },
        {
          "output_type": "display_data",
          "data": {
            "image/png": "[encoded data removed]",
            "text/plain": [
              "<Figure size 432x288 with 1 Axes>"
            ]
          },
          "metadata": {
            "needs_background": "light"
          }
        }
      ]
    },
    {
      "cell_type": "markdown",
      "metadata": {
        "id": "s_o4ybOxYC8A"
      },
      "source": [
        "## Preguntas y Problemas"
      ]
    },
    {
      "cell_type": "markdown",
      "metadata": {
        "id": "h0sRc9zlZ5Fb"
      },
      "source": [
        "Para dar contexto a la acumulación y registro de datos en el campo deportivo se debe tener en cuenta que la industria del deporte utiliza el análisis deportivo para aumentar los ingresos, mejorar el rendimiento de los jugadores y la calidad de juego de un equipo, prevenir lesiones y muchas más mejoras. sin embargo, esto es posible mediante el analisis de dichos datos. Actualmente, los analistas deportivos tienen una gran demanda, ya sea por busqueda de mejores ventajas competitivas, mejoras de equipamiento tal de evitar lesiones, dar mejor publicidad y experiencia a los fanaticos, o servir de informacion para personas que realicen apuestas, por nombrar algunas de las utilidades que tienen las bases de datos deportivas.\n",
        "\n",
        "En el caso de los tweets tenemos campos más relevantes como la hora de los tweets, la localizacion del usuario que escribió el tweet y la fuente de los tweets, luego se podría formular lo siguiente:\n",
        "\n",
        "Preguntas:\n",
        "\n",
        "1) ¿Cómo es, o son, la tendencia general de los tweets?\n",
        "\n",
        "2) ¿Cómo es la evolución de las tendencias en el tiempo?\n",
        "\n",
        "3) ¿Cuales son las tendencias por regiones o paises, y si son distintas a la tendencia global?\n",
        "\n",
        "4) ¿Las tendencias varian según la fuente de los tweets?\n",
        "\n",
        "5) ¿La diferencia horaria entre Japón y el mundo occidental juega un impacto en la cantidad de tweets?\n",
        "\n",
        "\n"
      ]
    },
    {
      "cell_type": "markdown",
      "metadata": {
        "id": "NUaVg7jcYC-u"
      },
      "source": [
        "## Participación\n",
        "\n",
        "Felipe Araneda: Introducción, preguntas y problemas, preparación de la presentación y presentación.\n",
        "\n",
        "Alexander Cuevas: Exploraciones iniciales y visualizaciones.\n",
        "\n",
        "Ignacio Díaz: Introducción. Carga de datos, exploraciones iniciales, limpieza de datos. Tokenización, eliminación de stopwords y símbolos, visualizaciones.\n",
        "\n",
        "Felipe Maldonado: Redacción de la introducción, preparación de la presentación (PPT), presentar y edición del video.\n",
        "\n",
        "Millaray Valdivia: Visualizaciones y presentación."
      ]
    },
    {
      "cell_type": "code",
      "metadata": {
        "colab": {
          "base_uri": "https://localhost:8080/"
        },
        "id": "CiwcMWMaZpuW",
        "outputId": "4d834c36-73b7-45f7-d8ae-db0164a21b39"
      },
      "source": [
        "%%shell\n",
        "jupyter nbconvert --to html /content/MineriaDatos_Hito1.ipynb"
      ],
      "execution_count": null,
      "outputs": [
        {
          "output_type": "stream",
          "name": "stdout",
          "text": [
            "[NbConvertApp] Converting notebook /content/MineriaDatos_Hito1.ipynb to html\n",
            "[NbConvertApp] Writing 503415 bytes to /content/MineriaDatos_Hito1.html\n"
          ]
        },
        {
          "output_type": "execute_result",
          "data": {
            "text/plain": [
              ""
            ]
          },
          "metadata": {},
          "execution_count": 243
        }
      ]
    },
    {
      "cell_type": "code",
      "metadata": {
        "id": "Z37mijkzc7Pb"
      },
      "source": [
        ""
      ],
      "execution_count": null,
      "outputs": []
    }
  ]
}